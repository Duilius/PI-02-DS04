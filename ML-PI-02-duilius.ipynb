{
 "cells": [
  {
   "cell_type": "code",
   "execution_count": 165,
   "metadata": {},
   "outputs": [
    {
     "data": {
      "text/html": [
       "<div>\n",
       "<style scoped>\n",
       "    .dataframe tbody tr th:only-of-type {\n",
       "        vertical-align: middle;\n",
       "    }\n",
       "\n",
       "    .dataframe tbody tr th {\n",
       "        vertical-align: top;\n",
       "    }\n",
       "\n",
       "    .dataframe thead th {\n",
       "        text-align: right;\n",
       "    }\n",
       "</style>\n",
       "<table border=\"1\" class=\"dataframe\">\n",
       "  <thead>\n",
       "    <tr style=\"text-align: right;\">\n",
       "      <th></th>\n",
       "      <th>Unnamed: 0</th>\n",
       "      <th>id</th>\n",
       "      <th>ad_type</th>\n",
       "      <th>start_date</th>\n",
       "      <th>end_date</th>\n",
       "      <th>created_on</th>\n",
       "      <th>lat</th>\n",
       "      <th>lon</th>\n",
       "      <th>l1</th>\n",
       "      <th>l2</th>\n",
       "      <th>...</th>\n",
       "      <th>surface_total</th>\n",
       "      <th>surface_covered</th>\n",
       "      <th>price</th>\n",
       "      <th>currency</th>\n",
       "      <th>price_period</th>\n",
       "      <th>title</th>\n",
       "      <th>description</th>\n",
       "      <th>property_type</th>\n",
       "      <th>operation_type</th>\n",
       "      <th>geometry</th>\n",
       "    </tr>\n",
       "  </thead>\n",
       "  <tbody>\n",
       "    <tr>\n",
       "      <th>0</th>\n",
       "      <td>861131</td>\n",
       "      <td>CScTjaFiP6yCzS8tFX0ZVA==</td>\n",
       "      <td>Propiedad</td>\n",
       "      <td>2020-12-14</td>\n",
       "      <td>9999-12-31</td>\n",
       "      <td>2020-12-14</td>\n",
       "      <td>6.203000</td>\n",
       "      <td>-75.572000</td>\n",
       "      <td>Colombia</td>\n",
       "      <td>Antioquia</td>\n",
       "      <td>...</td>\n",
       "      <td>NaN</td>\n",
       "      <td>NaN</td>\n",
       "      <td>9.000000e+09</td>\n",
       "      <td>COP</td>\n",
       "      <td>NaN</td>\n",
       "      <td>Hermosa Mansión En El Poblado. Área Construida...</td>\n",
       "      <td>&lt;b&gt;Hermosa Mansión En El Poblado. Área Constru...</td>\n",
       "      <td>Casa</td>\n",
       "      <td>Venta</td>\n",
       "      <td>POINT (-75.572 6.203)</td>\n",
       "    </tr>\n",
       "    <tr>\n",
       "      <th>1</th>\n",
       "      <td>200972</td>\n",
       "      <td>DlCxox9+FuugkxS2kBVfJg==</td>\n",
       "      <td>Propiedad</td>\n",
       "      <td>2020-09-16</td>\n",
       "      <td>2021-05-14</td>\n",
       "      <td>2020-09-16</td>\n",
       "      <td>4.722748</td>\n",
       "      <td>-74.073115</td>\n",
       "      <td>Colombia</td>\n",
       "      <td>Cundinamarca</td>\n",
       "      <td>...</td>\n",
       "      <td>NaN</td>\n",
       "      <td>NaN</td>\n",
       "      <td>6.250000e+08</td>\n",
       "      <td>COP</td>\n",
       "      <td>NaN</td>\n",
       "      <td>APARTAMENTO EN VENTA, BOGOTA-CIUDAD JARDIN NORTE</td>\n",
       "      <td>Venta apartamento en piso 16 con vista exterio...</td>\n",
       "      <td>Apartamento</td>\n",
       "      <td>Venta</td>\n",
       "      <td>POINT (-74.0731146 4.7227485)</td>\n",
       "    </tr>\n",
       "    <tr>\n",
       "      <th>2</th>\n",
       "      <td>554622</td>\n",
       "      <td>yitN1AigL45gh/K2YSF8rw==</td>\n",
       "      <td>Propiedad</td>\n",
       "      <td>2020-08-19</td>\n",
       "      <td>2020-08-20</td>\n",
       "      <td>2020-08-19</td>\n",
       "      <td>4.709000</td>\n",
       "      <td>-74.030000</td>\n",
       "      <td>Colombia</td>\n",
       "      <td>Cundinamarca</td>\n",
       "      <td>...</td>\n",
       "      <td>NaN</td>\n",
       "      <td>NaN</td>\n",
       "      <td>4.200000e+08</td>\n",
       "      <td>COP</td>\n",
       "      <td>NaN</td>\n",
       "      <td>Apartamento En Venta En Bogota Bella Suiza Cod...</td>\n",
       "      <td>Al entrar a este bonito apartamento interior e...</td>\n",
       "      <td>Casa</td>\n",
       "      <td>Venta</td>\n",
       "      <td>POINT (-74.03 4.709)</td>\n",
       "    </tr>\n",
       "    <tr>\n",
       "      <th>3</th>\n",
       "      <td>540321</td>\n",
       "      <td>hELQ9njwODbLMpATXieRdQ==</td>\n",
       "      <td>Propiedad</td>\n",
       "      <td>2020-11-23</td>\n",
       "      <td>2020-11-30</td>\n",
       "      <td>2020-11-23</td>\n",
       "      <td>NaN</td>\n",
       "      <td>NaN</td>\n",
       "      <td>Colombia</td>\n",
       "      <td>Santander</td>\n",
       "      <td>...</td>\n",
       "      <td>NaN</td>\n",
       "      <td>NaN</td>\n",
       "      <td>1.310000e+09</td>\n",
       "      <td>COP</td>\n",
       "      <td>NaN</td>\n",
       "      <td>SE VENDE LOCAL COMERCIAL EN CABECERA DEL LLANO...</td>\n",
       "      <td>Se encuentra ubicado en el sector de la Cabece...</td>\n",
       "      <td>Otro</td>\n",
       "      <td>Venta</td>\n",
       "      <td>POINT EMPTY</td>\n",
       "    </tr>\n",
       "    <tr>\n",
       "      <th>4</th>\n",
       "      <td>448920</td>\n",
       "      <td>aBCtKT7LDzt2CxJQ+gVFEA==</td>\n",
       "      <td>Propiedad</td>\n",
       "      <td>2020-10-06</td>\n",
       "      <td>2020-10-07</td>\n",
       "      <td>2020-10-06</td>\n",
       "      <td>NaN</td>\n",
       "      <td>NaN</td>\n",
       "      <td>Colombia</td>\n",
       "      <td>Antioquia</td>\n",
       "      <td>...</td>\n",
       "      <td>NaN</td>\n",
       "      <td>NaN</td>\n",
       "      <td>2.100000e+08</td>\n",
       "      <td>COP</td>\n",
       "      <td>NaN</td>\n",
       "      <td>Apartamento en Venta Ubicado en ITAGUI</td>\n",
       "      <td>Codigo Inmueble 4302 Apartamento con 3 habitac...</td>\n",
       "      <td>Apartamento</td>\n",
       "      <td>Venta</td>\n",
       "      <td>POINT EMPTY</td>\n",
       "    </tr>\n",
       "  </tbody>\n",
       "</table>\n",
       "<p>5 rows × 27 columns</p>\n",
       "</div>"
      ],
      "text/plain": [
       "   Unnamed: 0                        id    ad_type  start_date    end_date  \\\n",
       "0      861131  CScTjaFiP6yCzS8tFX0ZVA==  Propiedad  2020-12-14  9999-12-31   \n",
       "1      200972  DlCxox9+FuugkxS2kBVfJg==  Propiedad  2020-09-16  2021-05-14   \n",
       "2      554622  yitN1AigL45gh/K2YSF8rw==  Propiedad  2020-08-19  2020-08-20   \n",
       "3      540321  hELQ9njwODbLMpATXieRdQ==  Propiedad  2020-11-23  2020-11-30   \n",
       "4      448920  aBCtKT7LDzt2CxJQ+gVFEA==  Propiedad  2020-10-06  2020-10-07   \n",
       "\n",
       "   created_on       lat        lon        l1            l2  ... surface_total  \\\n",
       "0  2020-12-14  6.203000 -75.572000  Colombia     Antioquia  ...           NaN   \n",
       "1  2020-09-16  4.722748 -74.073115  Colombia  Cundinamarca  ...           NaN   \n",
       "2  2020-08-19  4.709000 -74.030000  Colombia  Cundinamarca  ...           NaN   \n",
       "3  2020-11-23       NaN        NaN  Colombia     Santander  ...           NaN   \n",
       "4  2020-10-06       NaN        NaN  Colombia     Antioquia  ...           NaN   \n",
       "\n",
       "  surface_covered         price currency  price_period  \\\n",
       "0             NaN  9.000000e+09      COP           NaN   \n",
       "1             NaN  6.250000e+08      COP           NaN   \n",
       "2             NaN  4.200000e+08      COP           NaN   \n",
       "3             NaN  1.310000e+09      COP           NaN   \n",
       "4             NaN  2.100000e+08      COP           NaN   \n",
       "\n",
       "                                               title  \\\n",
       "0  Hermosa Mansión En El Poblado. Área Construida...   \n",
       "1   APARTAMENTO EN VENTA, BOGOTA-CIUDAD JARDIN NORTE   \n",
       "2  Apartamento En Venta En Bogota Bella Suiza Cod...   \n",
       "3  SE VENDE LOCAL COMERCIAL EN CABECERA DEL LLANO...   \n",
       "4             Apartamento en Venta Ubicado en ITAGUI   \n",
       "\n",
       "                                         description  property_type  \\\n",
       "0  <b>Hermosa Mansión En El Poblado. Área Constru...           Casa   \n",
       "1  Venta apartamento en piso 16 con vista exterio...    Apartamento   \n",
       "2  Al entrar a este bonito apartamento interior e...           Casa   \n",
       "3  Se encuentra ubicado en el sector de la Cabece...           Otro   \n",
       "4  Codigo Inmueble 4302 Apartamento con 3 habitac...    Apartamento   \n",
       "\n",
       "   operation_type                       geometry  \n",
       "0           Venta          POINT (-75.572 6.203)  \n",
       "1           Venta  POINT (-74.0731146 4.7227485)  \n",
       "2           Venta           POINT (-74.03 4.709)  \n",
       "3           Venta                    POINT EMPTY  \n",
       "4           Venta                    POINT EMPTY  \n",
       "\n",
       "[5 rows x 27 columns]"
      ]
     },
     "execution_count": 165,
     "metadata": {},
     "output_type": "execute_result"
    }
   ],
   "source": [
    "#Batería de Librerías\n",
    "import matplotlib.pyplot as plt\n",
    "import numpy as np\n",
    "import pandas as pd\n",
    "\n",
    "#carga de la \\\"Data de Entrenamiento\\\"\\n\",\n",
    "df = pd.read_csv('properties_colombia_train.csv')\n",
    "df.head()"
   ]
  },
  {
   "cell_type": "code",
   "execution_count": 166,
   "metadata": {},
   "outputs": [],
   "source": [
    "df['prec_prom']= df['price'].mean()"
   ]
  },
  {
   "cell_type": "code",
   "execution_count": 167,
   "metadata": {},
   "outputs": [
    {
     "data": {
      "text/plain": [
       "0         6.436051e+08\n",
       "1         6.436051e+08\n",
       "2         6.436051e+08\n",
       "3         6.436051e+08\n",
       "4         6.436051e+08\n",
       "              ...     \n",
       "197544    6.436051e+08\n",
       "197545    6.436051e+08\n",
       "197546    6.436051e+08\n",
       "197547    6.436051e+08\n",
       "197548    6.436051e+08\n",
       "Name: prec_prom, Length: 197549, dtype: float64"
      ]
     },
     "execution_count": 167,
     "metadata": {},
     "output_type": "execute_result"
    }
   ],
   "source": [
    "df['prec_prom']"
   ]
  },
  {
   "cell_type": "markdown",
   "metadata": {},
   "source": [
    "NOTA IMPORTANTE: Por las limitaciones de recursos (Memoria y Procesador) se priorizará la eliminación de las columnas que amerite y/o corresponda."
   ]
  },
  {
   "cell_type": "code",
   "execution_count": null,
   "metadata": {},
   "outputs": [],
   "source": [
    "#ANALISIS EXPLORATORIO DEL DATAFRAME\n",
    "df.head()\n",
    "#Información Estadística de la información\n",
    "df.describe()"
   ]
  },
  {
   "cell_type": "code",
   "execution_count": null,
   "metadata": {},
   "outputs": [],
   "source": [
    "df.describe(include=object) #Los campos No-Numéricos también tienen información y casi siempre tienen candidatos a eliminarse"
   ]
  },
  {
   "cell_type": "markdown",
   "metadata": {},
   "source": [
    "COLUMNA: 'ID' ==> Eliminación de columna id: contiene caracteres especiales\n",
    "COLUMNA: 'UNNAMED: 0' ==> Renombrar columna \"unname 0\" como new_id: todos sus valores son únicos\n",
    "COLUMNA: 'GEOMETRY' ==> Eliminación de columna \"geometry\": contiene data innecesaria (es un campo calcuado y asociado a latitud -lat- y longitud -lon-)"
   ]
  },
  {
   "cell_type": "code",
   "execution_count": 168,
   "metadata": {},
   "outputs": [],
   "source": [
    "#El contenido de la columna \"id\" es desconocido en el sentido de que no guarda relación con ningún otro campo\n",
    "#El contenido dela columna \"unname 0\" tampoco guarda relación con los demas datos del Data Frame. Sin embargo contiene solo números (ajeno de caráteres especiales)\n",
    "#Es conveniente eliminar la columna \"id\" y renombrar la columna \"unname 0\" como new_id\n",
    "df.drop(columns=['id','geometry'], inplace=True)\n",
    "df.rename(columns={'Unnamed: 0':'new_id'}, inplace=True)"
   ]
  },
  {
   "cell_type": "code",
   "execution_count": null,
   "metadata": {},
   "outputs": [],
   "source": [
    "df.head(1)"
   ]
  },
  {
   "cell_type": "markdown",
   "metadata": {},
   "source": [
    "#Eliminar columnas innecesarias:\n",
    "#Columnas de tipo No-Numéricas que tienen muy poca frecuencia en relación con el total de filas\n",
    "#Ejemplo: 'l1' que corresponde a \"País\" (=Colombia). El dato unique indica que no hay un dato diferente a Colombia.\n"
   ]
  },
  {
   "cell_type": "code",
   "execution_count": 169,
   "metadata": {},
   "outputs": [],
   "source": [
    "df.drop(columns=['l1'], inplace=True)"
   ]
  },
  {
   "cell_type": "code",
   "execution_count": 170,
   "metadata": {},
   "outputs": [
    {
     "data": {
      "text/html": [
       "<div>\n",
       "<style scoped>\n",
       "    .dataframe tbody tr th:only-of-type {\n",
       "        vertical-align: middle;\n",
       "    }\n",
       "\n",
       "    .dataframe tbody tr th {\n",
       "        vertical-align: top;\n",
       "    }\n",
       "\n",
       "    .dataframe thead th {\n",
       "        text-align: right;\n",
       "    }\n",
       "</style>\n",
       "<table border=\"1\" class=\"dataframe\">\n",
       "  <thead>\n",
       "    <tr style=\"text-align: right;\">\n",
       "      <th></th>\n",
       "      <th>ad_type</th>\n",
       "      <th>start_date</th>\n",
       "      <th>end_date</th>\n",
       "      <th>created_on</th>\n",
       "      <th>l2</th>\n",
       "      <th>l3</th>\n",
       "      <th>l4</th>\n",
       "      <th>l5</th>\n",
       "      <th>l6</th>\n",
       "      <th>currency</th>\n",
       "      <th>price_period</th>\n",
       "      <th>title</th>\n",
       "      <th>description</th>\n",
       "      <th>property_type</th>\n",
       "      <th>operation_type</th>\n",
       "    </tr>\n",
       "  </thead>\n",
       "  <tbody>\n",
       "    <tr>\n",
       "      <th>count</th>\n",
       "      <td>197549</td>\n",
       "      <td>197549</td>\n",
       "      <td>197549</td>\n",
       "      <td>197549</td>\n",
       "      <td>197549</td>\n",
       "      <td>186517</td>\n",
       "      <td>45367</td>\n",
       "      <td>27409</td>\n",
       "      <td>6867</td>\n",
       "      <td>197482</td>\n",
       "      <td>35971</td>\n",
       "      <td>197548</td>\n",
       "      <td>197428</td>\n",
       "      <td>197549</td>\n",
       "      <td>197549</td>\n",
       "    </tr>\n",
       "    <tr>\n",
       "      <th>unique</th>\n",
       "      <td>1</td>\n",
       "      <td>145</td>\n",
       "      <td>446</td>\n",
       "      <td>145</td>\n",
       "      <td>31</td>\n",
       "      <td>293</td>\n",
       "      <td>58</td>\n",
       "      <td>20</td>\n",
       "      <td>146</td>\n",
       "      <td>2</td>\n",
       "      <td>1</td>\n",
       "      <td>95025</td>\n",
       "      <td>111371</td>\n",
       "      <td>8</td>\n",
       "      <td>1</td>\n",
       "    </tr>\n",
       "    <tr>\n",
       "      <th>top</th>\n",
       "      <td>Propiedad</td>\n",
       "      <td>2020-08-27</td>\n",
       "      <td>9999-12-31</td>\n",
       "      <td>2020-08-27</td>\n",
       "      <td>Antioquia</td>\n",
       "      <td>Medellín</td>\n",
       "      <td>Zona Norte</td>\n",
       "      <td>Usaquén</td>\n",
       "      <td>Chico Reservado</td>\n",
       "      <td>COP</td>\n",
       "      <td>Mensual</td>\n",
       "      <td>Apartamento en Venta Ubicado en MEDELLIN</td>\n",
       "      <td>En Rentahouse Finca Raiz contamos con más de 5...</td>\n",
       "      <td>Apartamento</td>\n",
       "      <td>Venta</td>\n",
       "    </tr>\n",
       "    <tr>\n",
       "      <th>freq</th>\n",
       "      <td>197549</td>\n",
       "      <td>6354</td>\n",
       "      <td>11974</td>\n",
       "      <td>6354</td>\n",
       "      <td>60636</td>\n",
       "      <td>43404</td>\n",
       "      <td>6736</td>\n",
       "      <td>6734</td>\n",
       "      <td>1138</td>\n",
       "      <td>197474</td>\n",
       "      <td>35971</td>\n",
       "      <td>12043</td>\n",
       "      <td>513</td>\n",
       "      <td>100527</td>\n",
       "      <td>197549</td>\n",
       "    </tr>\n",
       "  </tbody>\n",
       "</table>\n",
       "</div>"
      ],
      "text/plain": [
       "          ad_type  start_date    end_date  created_on         l2        l3  \\\n",
       "count      197549      197549      197549      197549     197549    186517   \n",
       "unique          1         145         446         145         31       293   \n",
       "top     Propiedad  2020-08-27  9999-12-31  2020-08-27  Antioquia  Medellín   \n",
       "freq       197549        6354       11974        6354      60636     43404   \n",
       "\n",
       "                l4       l5               l6 currency price_period  \\\n",
       "count        45367    27409             6867   197482        35971   \n",
       "unique          58       20              146        2            1   \n",
       "top     Zona Norte  Usaquén  Chico Reservado      COP      Mensual   \n",
       "freq          6736     6734             1138   197474        35971   \n",
       "\n",
       "                                           title  \\\n",
       "count                                     197548   \n",
       "unique                                     95025   \n",
       "top     Apartamento en Venta Ubicado en MEDELLIN   \n",
       "freq                                       12043   \n",
       "\n",
       "                                              description property_type  \\\n",
       "count                                              197428        197549   \n",
       "unique                                             111371             8   \n",
       "top     En Rentahouse Finca Raiz contamos con más de 5...   Apartamento   \n",
       "freq                                                  513        100527   \n",
       "\n",
       "       operation_type  \n",
       "count          197549  \n",
       "unique              1  \n",
       "top             Venta  \n",
       "freq           197549  "
      ]
     },
     "execution_count": 170,
     "metadata": {},
     "output_type": "execute_result"
    }
   ],
   "source": [
    "df.describe(include=object)"
   ]
  },
  {
   "cell_type": "markdown",
   "metadata": {},
   "source": [
    "Más columnas innecesarias por eliminar\n",
    "Analizando la frecuencia (freq) en relación al Total de Filas del DataFrame\n",
    "----------------------------------------------------------------------------\n",
    "COLUMNA \"currency\" que corresponde a \"COP\"             unique=2  Frecuencia=197,474  top=COP\n",
    "El dato unique indica que de las 197,549 filas solo hay 2 datos diferentes y, uno de ellos, \"COP\", se repite 197,474 veces.\n",
    "De manera que, el otro dato diferente a COP se repite solo 8 veces; es decir 0% (8/197549)\n",
    "\n",
    "👀\n",
    "NOTA:hay una diferencia de filas que corresponden a valores nulos que en número también resultan insignificantes: \n",
    "    TOTAL-FILAS     FILAS EN \"currency\"     currency= COP   currency= no COP    currency= nulos\n",
    "    -----------     ------------------      -------------   ----------------    ---------------\n",
    "    197,549             197,482                 197,474             8                   67\n",
    "\n",
    "\n"
   ]
  },
  {
   "cell_type": "code",
   "execution_count": 171,
   "metadata": {},
   "outputs": [],
   "source": [
    "df.drop(columns=['currency'], inplace=True)"
   ]
  },
  {
   "cell_type": "markdown",
   "metadata": {},
   "source": [
    "Eliminar solo (por ahora) columnas con unique=1 y freq=197549 (la cantidad total de filas)\n",
    "Eliminaremos columas: ad_type (\"Tipo de aviso\"=Propiedad)   operation_type(\"Tipo operación\"=Venta)"
   ]
  },
  {
   "cell_type": "code",
   "execution_count": 172,
   "metadata": {},
   "outputs": [],
   "source": [
    "#Eliminación de columnas ( ad_type (\"Tipo de aviso\"=Propiedad)   operation_type(\"Tipo operación\"=Venta) )\n",
    "df.drop(columns=['ad_type', 'operation_type'], inplace=True)"
   ]
  },
  {
   "cell_type": "code",
   "execution_count": 173,
   "metadata": {},
   "outputs": [
    {
     "data": {
      "text/plain": [
       "22"
      ]
     },
     "execution_count": 173,
     "metadata": {},
     "output_type": "execute_result"
    }
   ],
   "source": [
    "len(df.columns) #El df inicial era de 27 columnas"
   ]
  },
  {
   "cell_type": "code",
   "execution_count": 174,
   "metadata": {},
   "outputs": [
    {
     "data": {
      "text/html": [
       "<div>\n",
       "<style scoped>\n",
       "    .dataframe tbody tr th:only-of-type {\n",
       "        vertical-align: middle;\n",
       "    }\n",
       "\n",
       "    .dataframe tbody tr th {\n",
       "        vertical-align: top;\n",
       "    }\n",
       "\n",
       "    .dataframe thead th {\n",
       "        text-align: right;\n",
       "    }\n",
       "</style>\n",
       "<table border=\"1\" class=\"dataframe\">\n",
       "  <thead>\n",
       "    <tr style=\"text-align: right;\">\n",
       "      <th></th>\n",
       "      <th>start_date</th>\n",
       "      <th>end_date</th>\n",
       "      <th>created_on</th>\n",
       "      <th>l2</th>\n",
       "      <th>l3</th>\n",
       "      <th>l4</th>\n",
       "      <th>l5</th>\n",
       "      <th>l6</th>\n",
       "      <th>price_period</th>\n",
       "      <th>title</th>\n",
       "      <th>description</th>\n",
       "      <th>property_type</th>\n",
       "    </tr>\n",
       "  </thead>\n",
       "  <tbody>\n",
       "    <tr>\n",
       "      <th>count</th>\n",
       "      <td>197549</td>\n",
       "      <td>197549</td>\n",
       "      <td>197549</td>\n",
       "      <td>197549</td>\n",
       "      <td>186517</td>\n",
       "      <td>45367</td>\n",
       "      <td>27409</td>\n",
       "      <td>6867</td>\n",
       "      <td>35971</td>\n",
       "      <td>197548</td>\n",
       "      <td>197428</td>\n",
       "      <td>197549</td>\n",
       "    </tr>\n",
       "    <tr>\n",
       "      <th>unique</th>\n",
       "      <td>145</td>\n",
       "      <td>446</td>\n",
       "      <td>145</td>\n",
       "      <td>31</td>\n",
       "      <td>293</td>\n",
       "      <td>58</td>\n",
       "      <td>20</td>\n",
       "      <td>146</td>\n",
       "      <td>1</td>\n",
       "      <td>95025</td>\n",
       "      <td>111371</td>\n",
       "      <td>8</td>\n",
       "    </tr>\n",
       "    <tr>\n",
       "      <th>top</th>\n",
       "      <td>2020-08-27</td>\n",
       "      <td>9999-12-31</td>\n",
       "      <td>2020-08-27</td>\n",
       "      <td>Antioquia</td>\n",
       "      <td>Medellín</td>\n",
       "      <td>Zona Norte</td>\n",
       "      <td>Usaquén</td>\n",
       "      <td>Chico Reservado</td>\n",
       "      <td>Mensual</td>\n",
       "      <td>Apartamento en Venta Ubicado en MEDELLIN</td>\n",
       "      <td>En Rentahouse Finca Raiz contamos con más de 5...</td>\n",
       "      <td>Apartamento</td>\n",
       "    </tr>\n",
       "    <tr>\n",
       "      <th>freq</th>\n",
       "      <td>6354</td>\n",
       "      <td>11974</td>\n",
       "      <td>6354</td>\n",
       "      <td>60636</td>\n",
       "      <td>43404</td>\n",
       "      <td>6736</td>\n",
       "      <td>6734</td>\n",
       "      <td>1138</td>\n",
       "      <td>35971</td>\n",
       "      <td>12043</td>\n",
       "      <td>513</td>\n",
       "      <td>100527</td>\n",
       "    </tr>\n",
       "  </tbody>\n",
       "</table>\n",
       "</div>"
      ],
      "text/plain": [
       "        start_date    end_date  created_on         l2        l3          l4  \\\n",
       "count       197549      197549      197549     197549    186517       45367   \n",
       "unique         145         446         145         31       293          58   \n",
       "top     2020-08-27  9999-12-31  2020-08-27  Antioquia  Medellín  Zona Norte   \n",
       "freq          6354       11974        6354      60636     43404        6736   \n",
       "\n",
       "             l5               l6 price_period  \\\n",
       "count     27409             6867        35971   \n",
       "unique       20              146            1   \n",
       "top     Usaquén  Chico Reservado      Mensual   \n",
       "freq       6734             1138        35971   \n",
       "\n",
       "                                           title  \\\n",
       "count                                     197548   \n",
       "unique                                     95025   \n",
       "top     Apartamento en Venta Ubicado en MEDELLIN   \n",
       "freq                                       12043   \n",
       "\n",
       "                                              description property_type  \n",
       "count                                              197428        197549  \n",
       "unique                                             111371             8  \n",
       "top     En Rentahouse Finca Raiz contamos con más de 5...   Apartamento  \n",
       "freq                                                  513        100527  "
      ]
     },
     "execution_count": 174,
     "metadata": {},
     "output_type": "execute_result"
    }
   ],
   "source": [
    "df.describe(include=object)"
   ]
  },
  {
   "cell_type": "markdown",
   "metadata": {},
   "source": [
    "COLUMNAS \"stard_date\", \"end_date\" y \"created_on\" (fechas respecto al aviso de venta)\n",
    "Como se aprecia en el cuadro anterior 👆 para las columnas \"start_date\" y \"created_on\" existen 145 valores únicos y 6354 repeticiones para el mismo dato (2020-08-27)\n",
    "Esto hace pensar que ambas columnas presentan datos idénticos. De confirmarse, serían columnas repetidas por lo que ameritaría eliminar la columna \"created_on\" y analizar la conveniencia de que existan/persistan \"start_date\" y \"end_date\".\n",
    "\n",
    "ANÁLISIS:start_date y end_date\n",
    "Siguiendo en el mismo enfoque y de la forma en que se entiende el problema a resolver, se considera que el tiempo -en días- que se tarda en vender una propiedad es un buen indicador respecto al precio y al grado y rápidez de respuesta por parte del mercado.\n",
    "Es decir, mientras más rápido se venda una propiedad será correcto afirmar que: ES MUY PROBABLE QUE SEA BARATA !\n",
    "\n",
    "Fusionando start_date y end_date:\n",
    "--------------------------------\n",
    "Como se explicó en el parrafo anterior, un buen indicador será el cálculo de \"días en venta\" de una propiedad. 💯\n",
    "Por ello, crearemos el campo \"days_to_sale\" con la diferencia entre \"start_date\" y \"end_date\" y luego eliminaremos estos dos últimos campos."
   ]
  },
  {
   "cell_type": "code",
   "execution_count": 175,
   "metadata": {},
   "outputs": [],
   "source": [
    "import datetime\n",
    "#Analicemos si las columnas son iguales. De ser iguales la diferencia en días debe ser CERO\n",
    "df['fecha_ini'] = pd.to_datetime(df['start_date']) \n",
    "df['fecha_fin'] = pd.to_datetime(df['created_on']) \n",
    "df['dif_dias'] = df['fecha_fin'] - df['fecha_ini']  # difference in days"
   ]
  },
  {
   "cell_type": "code",
   "execution_count": 75,
   "metadata": {},
   "outputs": [
    {
     "name": "stdout",
     "output_type": "stream",
     "text": [
      "Hay 197549 días con diferencia CERO y 0 días con diferencia mayor a cero: \n"
     ]
    }
   ],
   "source": [
    "n=0\n",
    "m=0\n",
    "for x in df['dif_dias'].dt.days:\n",
    "    if x == 0:\n",
    "        n +=1\n",
    "    else:\n",
    "        m=+1\n",
    "\n",
    "print(f\"Hay {n} días con diferencia CERO y {m} días con diferencia mayor a cero: \")"
   ]
  },
  {
   "cell_type": "markdown",
   "metadata": {},
   "source": [
    "Se demuestra que las columnas \"created_on\" y \"start_date\" son idénticas, por lo que amerita eliminar 'created_on'\n",
    "Adicionalmente, hemos visto que conviene calcular el tiempo en días para las propiedades vendidas: crearemos columna \"days_to_sale\" = \"end_date\" - \"start_date\"\n",
    "*****************\n",
    "Luego de fucionar \"end_date\" y \"start_date\" las eliminaremos.\n",
    "\n",
    "Problema a resolver:\n",
    "-------------------\n",
    "Las propiedades no vendidas tienen \"9999-12-31\" como dato en el campo \"end_date\", por lo que, para efectuar la diferencia con \"start_date\" se hará:\n",
    "  1. Sustituir la fecha 9999-12-31 por 2021-01-01\n",
    "  2. Al hacer la diferencia se adicionará un día para que los cálculos correspondan en todo momento al año 2020"
   ]
  },
  {
   "cell_type": "code",
   "execution_count": null,
   "metadata": {},
   "outputs": [],
   "source": [
    "#Las propiedades SIN vender tienen valor \"9999-12-31\"\n",
    "#Creamos una serie -llamada 'serie'- para luego crear la columna 'days_to_sale' con esa serie\n",
    "serie = list()\n",
    "for x in df['end_date']:\n",
    "    if x=='9999-12-31':\n",
    "        x='2021-01-01'\n",
    "        serie.append(x)    \n",
    "    else:\n",
    "        serie.append(x)\n",
    "\n",
    "serie"
   ]
  },
  {
   "cell_type": "code",
   "execution_count": 177,
   "metadata": {},
   "outputs": [],
   "source": [
    "#Introducimos valores de la serie en \"days_to_sale\"\n",
    "df['fecha_fin'] = serie"
   ]
  },
  {
   "cell_type": "code",
   "execution_count": 178,
   "metadata": {},
   "outputs": [],
   "source": [
    "#Calculamos diferencia en días y poblamos \"days_to_sale\"\n",
    "import datetime\n",
    "\n",
    "df['fecha_ini'] = pd.to_datetime(df['start_date']) \n",
    "df['fecha_fin'] = pd.to_datetime(df['fecha_fin']) \n",
    "df['days_to_sale'] = df['fecha_fin'] - df['fecha_ini'] - datetime.timedelta(days=1) # difference in days"
   ]
  },
  {
   "cell_type": "code",
   "execution_count": 179,
   "metadata": {},
   "outputs": [
    {
     "data": {
      "text/plain": [
       "0         17 days\n",
       "1        239 days\n",
       "2          0 days\n",
       "3          6 days\n",
       "4          0 days\n",
       "           ...   \n",
       "197544    65 days\n",
       "197545    11 days\n",
       "197546    65 days\n",
       "197547    -1 days\n",
       "197548    51 days\n",
       "Name: days_to_sale, Length: 197549, dtype: timedelta64[ns]"
      ]
     },
     "execution_count": 179,
     "metadata": {},
     "output_type": "execute_result"
    }
   ],
   "source": [
    "df['days_to_sale']\n",
    "#[dt.date for dt in df['fec_fin']]"
   ]
  },
  {
   "cell_type": "markdown",
   "metadata": {},
   "source": [
    "Hemos construido un mejor indicador con el tiempo que tarda en venderse una propiedad y ahora sabemos que las propiedades que tienen \"fecha_fin\" = 2021-01-01\n",
    "aún no han sido vendidas.\n",
    "Adicionalmente, sabremos cuánto tardó en venderse una propiedad, al haber sido vendida.\n",
    "----------------------------\n",
    "Nos quedaremos con \"fecha_fin\", \"fecha_ini\" y \"days_to_sale\"\n",
    "Eliminaremos: \"create_on\", \"start_date\", \"end_date\" y \"dif_dias\""
   ]
  },
  {
   "cell_type": "code",
   "execution_count": 180,
   "metadata": {},
   "outputs": [],
   "source": [
    "df.drop(columns={\"created_on\", \"start_date\", \"end_date\", \"dif_dias\"}, inplace=True)"
   ]
  },
  {
   "cell_type": "code",
   "execution_count": 181,
   "metadata": {},
   "outputs": [
    {
     "data": {
      "text/html": [
       "<div>\n",
       "<style scoped>\n",
       "    .dataframe tbody tr th:only-of-type {\n",
       "        vertical-align: middle;\n",
       "    }\n",
       "\n",
       "    .dataframe tbody tr th {\n",
       "        vertical-align: top;\n",
       "    }\n",
       "\n",
       "    .dataframe thead th {\n",
       "        text-align: right;\n",
       "    }\n",
       "</style>\n",
       "<table border=\"1\" class=\"dataframe\">\n",
       "  <thead>\n",
       "    <tr style=\"text-align: right;\">\n",
       "      <th></th>\n",
       "      <th>l2</th>\n",
       "      <th>l3</th>\n",
       "      <th>l4</th>\n",
       "      <th>l5</th>\n",
       "      <th>l6</th>\n",
       "      <th>price_period</th>\n",
       "      <th>title</th>\n",
       "      <th>description</th>\n",
       "      <th>property_type</th>\n",
       "    </tr>\n",
       "  </thead>\n",
       "  <tbody>\n",
       "    <tr>\n",
       "      <th>count</th>\n",
       "      <td>197549</td>\n",
       "      <td>186517</td>\n",
       "      <td>45367</td>\n",
       "      <td>27409</td>\n",
       "      <td>6867</td>\n",
       "      <td>35971</td>\n",
       "      <td>197548</td>\n",
       "      <td>197428</td>\n",
       "      <td>197549</td>\n",
       "    </tr>\n",
       "    <tr>\n",
       "      <th>unique</th>\n",
       "      <td>31</td>\n",
       "      <td>293</td>\n",
       "      <td>58</td>\n",
       "      <td>20</td>\n",
       "      <td>146</td>\n",
       "      <td>1</td>\n",
       "      <td>95025</td>\n",
       "      <td>111371</td>\n",
       "      <td>8</td>\n",
       "    </tr>\n",
       "    <tr>\n",
       "      <th>top</th>\n",
       "      <td>Antioquia</td>\n",
       "      <td>Medellín</td>\n",
       "      <td>Zona Norte</td>\n",
       "      <td>Usaquén</td>\n",
       "      <td>Chico Reservado</td>\n",
       "      <td>Mensual</td>\n",
       "      <td>Apartamento en Venta Ubicado en MEDELLIN</td>\n",
       "      <td>En Rentahouse Finca Raiz contamos con más de 5...</td>\n",
       "      <td>Apartamento</td>\n",
       "    </tr>\n",
       "    <tr>\n",
       "      <th>freq</th>\n",
       "      <td>60636</td>\n",
       "      <td>43404</td>\n",
       "      <td>6736</td>\n",
       "      <td>6734</td>\n",
       "      <td>1138</td>\n",
       "      <td>35971</td>\n",
       "      <td>12043</td>\n",
       "      <td>513</td>\n",
       "      <td>100527</td>\n",
       "    </tr>\n",
       "  </tbody>\n",
       "</table>\n",
       "</div>"
      ],
      "text/plain": [
       "               l2        l3          l4       l5               l6  \\\n",
       "count      197549    186517       45367    27409             6867   \n",
       "unique         31       293          58       20              146   \n",
       "top     Antioquia  Medellín  Zona Norte  Usaquén  Chico Reservado   \n",
       "freq        60636     43404        6736     6734             1138   \n",
       "\n",
       "       price_period                                     title  \\\n",
       "count         35971                                    197548   \n",
       "unique            1                                     95025   \n",
       "top         Mensual  Apartamento en Venta Ubicado en MEDELLIN   \n",
       "freq          35971                                     12043   \n",
       "\n",
       "                                              description property_type  \n",
       "count                                              197428        197549  \n",
       "unique                                             111371             8  \n",
       "top     En Rentahouse Finca Raiz contamos con más de 5...   Apartamento  \n",
       "freq                                                  513        100527  "
      ]
     },
     "execution_count": 181,
     "metadata": {},
     "output_type": "execute_result"
    }
   ],
   "source": [
    "df.describe(include=object)"
   ]
  },
  {
   "cell_type": "markdown",
   "metadata": {},
   "source": [
    "VALORES NULOS !\n",
    "--------------\n",
    "\n",
    "Calcularemos el % de valores faltantes para cada columna.\n",
    "Normalmente se considera que valores faltantes superiores al 50% hacen a dicho campo/columna como innecesaria:candidata a eliminarse"
   ]
  },
  {
   "cell_type": "code",
   "execution_count": 182,
   "metadata": {},
   "outputs": [
    {
     "name": "stdout",
     "output_type": "stream",
     "text": [
      "new_id              0.0\n",
      "lat                25.0\n",
      "lon                25.0\n",
      "l2                  0.0\n",
      "l3                  6.0\n",
      "l4                 77.0\n",
      "l5                 86.0\n",
      "l6                 97.0\n",
      "rooms              86.0\n",
      "bedrooms           79.0\n",
      "bathrooms          21.0\n",
      "surface_total      96.0\n",
      "surface_covered    95.0\n",
      "price               0.0\n",
      "price_period       82.0\n",
      "title               0.0\n",
      "description         0.0\n",
      "property_type       0.0\n",
      "prec_prom           0.0\n",
      "fecha_ini           0.0\n",
      "fecha_fin           0.0\n",
      "days_to_sale        0.0\n",
      "dtype: float64 2\n"
     ]
    }
   ],
   "source": [
    "print(round((df.isna().sum()/df.shape[0])*100),2)"
   ]
  },
  {
   "cell_type": "markdown",
   "metadata": {},
   "source": [
    "COLUMNAS A ELIMINAR:\n",
    "l4 (Barrio): 77% de NULOS\n",
    "l5 (Nivel administrativo nivel 5): 86% de NULOS\n",
    "l6 (Nivel administrativo nivel 6): 97% de NULOS\n",
    "rooms: 86% de NULOS\n",
    "bedrooms: 79% de NULOS\n",
    "surface_total: 96% de NULOS\n",
    "surface_covered: 95% de NULOS\n",
    "price_period: 82% de NULOS"
   ]
  },
  {
   "cell_type": "code",
   "execution_count": 183,
   "metadata": {},
   "outputs": [],
   "source": [
    "df.drop(columns= {'l4', 'l5', 'l6', 'rooms', 'bedrooms', 'surface_total', 'surface_covered','price_period'}, inplace=True)"
   ]
  },
  {
   "cell_type": "markdown",
   "metadata": {},
   "source": [
    "DUPLICADOS !\n",
    "-----------\n",
    "\n",
    "1. Eliminar duplicados \"imperdonables\": existen filas que no tienen razón de ser si un campo está repetido\n",
    "    Si se actualizó el aviso de venta de una propiedad, ésta será data duplicada y solo interesarán los datos mas recientes (mayor 'fecha_ini' )\n",
    "    Identificándolas:\n",
    "        Data duplicada si: Latitud (lat), Longitud (lon), Provincia (l2), Ciudad (l3), title y description son iguales SE ASUMEN COMO PROPIEDADES CON ANUNCIOS ACTUALIZADOS\n",
    "\n",
    "        Se procederá a eliminar dichas filas, quedándonos con la fila más reciente, según columna \"fecha_ini\"\n",
    "\n",
    "        Creamos una columna con datos agregados y al eliminarlos por dicha columna hacemos uso de la opción keep= last,\n",
    "        previo ordenamiento del Data Frame por los campos \"indica_duplos\" (a crearse) y fecha_ini en forma descendente"
   ]
  },
  {
   "cell_type": "code",
   "execution_count": 184,
   "metadata": {},
   "outputs": [],
   "source": [
    "df['indica_duplos'] = str(df['lat']) + str(df['lon']) + df['l2'] + df['l3'] + df['title'] + df['description']\n",
    "    "
   ]
  },
  {
   "cell_type": "code",
   "execution_count": 186,
   "metadata": {},
   "outputs": [
    {
     "name": "stdout",
     "output_type": "stream",
     "text": [
      "<class 'pandas.core.series.Series'>\n",
      "RangeIndex: 197549 entries, 0 to 197548\n",
      "Series name: indica_duplos\n",
      "Non-Null Count   Dtype \n",
      "--------------   ----- \n",
      "186427 non-null  object\n",
      "dtypes: object(1)\n",
      "memory usage: 1.5+ MB\n"
     ]
    }
   ],
   "source": [
    "df['indica_duplos'].info()\n",
    "#Se encontraron 11,122 filas duplicadas ( = 197,549 - 186,427 )"
   ]
  },
  {
   "cell_type": "code",
   "execution_count": 187,
   "metadata": {},
   "outputs": [],
   "source": [
    "#Ordenamiento del Data Frame\n",
    "df.sort_values(by='fecha_ini', ascending=True)\n",
    "#Eliminamos las filas duplicadas según campo creado \"indica_duplos\"\n",
    "df.drop_duplicates('indica_duplos', inplace=True)"
   ]
  },
  {
   "cell_type": "markdown",
   "metadata": {},
   "source": [
    "GRÁFICA DE CAMPOS NUMÉRICOS"
   ]
  },
  {
   "cell_type": "code",
   "execution_count": 191,
   "metadata": {},
   "outputs": [
    {
     "name": "stdout",
     "output_type": "stream",
     "text": [
      "count    1.079120e+05\n",
      "mean     6.881701e+08\n",
      "std      2.302102e+09\n",
      "min      0.000000e+00\n",
      "25%      2.000000e+08\n",
      "50%      3.420000e+08\n",
      "75%      6.500000e+08\n",
      "max      3.450000e+11\n",
      "Name: price, dtype: float64\n"
     ]
    },
    {
     "data": {
      "text/plain": [
       "<AxesSubplot:>"
      ]
     },
     "execution_count": 191,
     "metadata": {},
     "output_type": "execute_result"
    },
    {
     "data": {
      "image/png": "[encoded data removed]",
      "text/plain": [
       "<Figure size 432x288 with 1 Axes>"
      ]
     },
     "metadata": {
      "needs_background": "light"
     },
     "output_type": "display_data"
    }
   ],
   "source": [
    "#Ver datos estadísticos del Precio (variable objetivo)\n",
    "print(df['price'].describe())\n",
    "df['price'].hist()"
   ]
  },
  {
   "cell_type": "code",
   "execution_count": 192,
   "metadata": {},
   "outputs": [
    {
     "data": {
      "text/plain": [
       "array([[<AxesSubplot:title={'center':'new_id'}>,\n",
       "        <AxesSubplot:title={'center':'lat'}>,\n",
       "        <AxesSubplot:title={'center':'lon'}>],\n",
       "       [<AxesSubplot:title={'center':'bathrooms'}>,\n",
       "        <AxesSubplot:title={'center':'price'}>,\n",
       "        <AxesSubplot:title={'center':'prec_prom'}>],\n",
       "       [<AxesSubplot:title={'center':'fecha_ini'}>,\n",
       "        <AxesSubplot:title={'center':'fecha_fin'}>, <AxesSubplot:>]],\n",
       "      dtype=object)"
      ]
     },
     "execution_count": 192,
     "metadata": {},
     "output_type": "execute_result"
    },
    {
     "data": {
      "image/png": "[encoded data removed]",
      "text/plain": [
       "<Figure size 1440x1080 with 9 Axes>"
      ]
     },
     "metadata": {
      "needs_background": "light"
     },
     "output_type": "display_data"
    }
   ],
   "source": [
    "#Gráfica de los datos numéricos\n",
    "df.hist(bins=50, figsize=(20,15))"
   ]
  },
  {
   "cell_type": "markdown",
   "metadata": {},
   "source": [
    "Las gráficas que en esta etapa ayudan a tomar algunas decisiones son las de:\n",
    "    Latitud-Longitud:\n",
    "    Se aprecia cierta concentración en pocos distritos y para pocas ciudades. Lo que se corrobora con los datos estadísticos \n",
    "    df.describe(include=object)\n",
    "    La concentración se presenta en la ciudad de Cundinamarca con 28,524 propiedades en venta. Cundinamarca es una de las 29 Provincias perteneciente a la ciudad de Bogotá D.C.\n",
    "    "
   ]
  },
  {
   "cell_type": "code",
   "execution_count": 204,
   "metadata": {},
   "outputs": [
    {
     "name": "stdout",
     "output_type": "stream",
     "text": [
      "count           107970\n",
      "unique              29\n",
      "top       Cundinamarca\n",
      "freq             28524\n",
      "Name: l2, dtype: object count         107969\n",
      "unique           293\n",
      "top       Bogotá D.C\n",
      "freq           21401\n",
      "Name: l3, dtype: object\n"
     ]
    }
   ],
   "source": [
    "print(df['l2'].describe() , df['l3'].describe())"
   ]
  },
  {
   "cell_type": "code",
   "execution_count": 205,
   "metadata": {},
   "outputs": [
    {
     "data": {
      "text/plain": [
       "<AxesSubplot:>"
      ]
     },
     "execution_count": 205,
     "metadata": {},
     "output_type": "execute_result"
    },
    {
     "data": {
      "image/png": "[encoded data removed]",
      "text/plain": [
       "<Figure size 432x288 with 1 Axes>"
      ]
     },
     "metadata": {
      "needs_background": "light"
     },
     "output_type": "display_data"
    }
   ],
   "source": [
    "#Outliers en Precio?\n",
    "#Según la gráfica\n",
    "df['price'].hist(bins=50)\n",
    "#Visualmente se pueden apreciar poquísimos datos que puedan ser candidatos a atípicos, respecto al conjunto muestral\""
   ]
  },
  {
   "cell_type": "markdown",
   "metadata": {},
   "source": [
    "CORRELACIÓN DE VARIABLES"
   ]
  },
  {
   "cell_type": "code",
   "execution_count": 250,
   "metadata": {},
   "outputs": [
    {
     "name": "stderr",
     "output_type": "stream",
     "text": [
      "C:\\Users\\DUILIO\\AppData\\Local\\Packages\\PythonSoftwareFoundation.Python.3.9_qbz5n2kfra8p0\\LocalCache\\local-packages\\Python39\\site-packages\\pandas\\plotting\\_matplotlib\\misc.py:91: UserWarning: Attempting to set identical left == right == 93.0 results in singular transformations; automatically expanding.\n",
      "  ax.set_xlim(boundaries_list[i])\n",
      "C:\\Users\\DUILIO\\AppData\\Local\\Packages\\PythonSoftwareFoundation.Python.3.9_qbz5n2kfra8p0\\LocalCache\\local-packages\\Python39\\site-packages\\pandas\\plotting\\_matplotlib\\misc.py:101: UserWarning: Attempting to set identical bottom == top == 93.0 results in singular transformations; automatically expanding.\n",
      "  ax.set_ylim(boundaries_list[i])\n",
      "C:\\Users\\DUILIO\\AppData\\Local\\Packages\\PythonSoftwareFoundation.Python.3.9_qbz5n2kfra8p0\\LocalCache\\local-packages\\Python39\\site-packages\\pandas\\plotting\\_matplotlib\\misc.py:100: UserWarning: Attempting to set identical left == right == 93.0 results in singular transformations; automatically expanding.\n",
      "  ax.set_xlim(boundaries_list[j])\n"
     ]
    },
    {
     "data": {
      "text/plain": [
       "array([[<AxesSubplot:xlabel='days_to_sale', ylabel='days_to_sale'>,\n",
       "        <AxesSubplot:xlabel='bathrooms', ylabel='days_to_sale'>,\n",
       "        <AxesSubplot:xlabel='price', ylabel='days_to_sale'>],\n",
       "       [<AxesSubplot:xlabel='days_to_sale', ylabel='bathrooms'>,\n",
       "        <AxesSubplot:xlabel='bathrooms', ylabel='bathrooms'>,\n",
       "        <AxesSubplot:xlabel='price', ylabel='bathrooms'>],\n",
       "       [<AxesSubplot:xlabel='days_to_sale', ylabel='price'>,\n",
       "        <AxesSubplot:xlabel='bathrooms', ylabel='price'>,\n",
       "        <AxesSubplot:xlabel='price', ylabel='price'>]], dtype=object)"
      ]
     },
     "execution_count": 250,
     "metadata": {},
     "output_type": "execute_result"
    },
    {
     "data": {
      "image/png": "[encoded data removed]",
      "text/plain": [
       "<Figure size 864x576 with 9 Axes>"
      ]
     },
     "metadata": {
      "needs_background": "light"
     },
     "output_type": "display_data"
    }
   ],
   "source": [
    "#Creamos una lista de atributos\n",
    "atributos = ['days_to_sale','bathrooms','price']\n",
    "\n",
    "from pandas.plotting import scatter_matrix\n",
    "\n",
    "scatter_matrix(df[atributos], figsize=(12,8))"
   ]
  },
  {
   "cell_type": "code",
   "execution_count": 256,
   "metadata": {},
   "outputs": [
    {
     "data": {
      "image/png": "[encoded data removed]",
      "text/plain": [
       "<Figure size 432x288 with 2 Axes>"
      ]
     },
     "metadata": {
      "needs_background": "light"
     },
     "output_type": "display_data"
    }
   ],
   "source": [
    "#MATRIZ DE CORRELACIÓN\n",
    "import seaborn as sn\n",
    "\n",
    "corrMatrix = df[atributos].corr().round(2)\n",
    "sn.heatmap( corrMatrix, annot=True, cmap='coolwarm', linecolor='blue')\n",
    "plt.show()"
   ]
  },
  {
   "cell_type": "markdown",
   "metadata": {},
   "source": [
    "VARIABLES CATEGÓRICAS:\n"
   ]
  },
  {
   "cell_type": "code",
   "execution_count": 208,
   "metadata": {},
   "outputs": [
    {
     "data": {
      "text/html": [
       "<div>\n",
       "<style scoped>\n",
       "    .dataframe tbody tr th:only-of-type {\n",
       "        vertical-align: middle;\n",
       "    }\n",
       "\n",
       "    .dataframe tbody tr th {\n",
       "        vertical-align: top;\n",
       "    }\n",
       "\n",
       "    .dataframe thead th {\n",
       "        text-align: right;\n",
       "    }\n",
       "</style>\n",
       "<table border=\"1\" class=\"dataframe\">\n",
       "  <thead>\n",
       "    <tr style=\"text-align: right;\">\n",
       "      <th></th>\n",
       "      <th>l2</th>\n",
       "      <th>l3</th>\n",
       "      <th>title</th>\n",
       "      <th>description</th>\n",
       "      <th>property_type</th>\n",
       "      <th>indica_duplos</th>\n",
       "    </tr>\n",
       "  </thead>\n",
       "  <tbody>\n",
       "    <tr>\n",
       "      <th>count</th>\n",
       "      <td>107970</td>\n",
       "      <td>107969</td>\n",
       "      <td>107970</td>\n",
       "      <td>107970</td>\n",
       "      <td>107970</td>\n",
       "      <td>107969</td>\n",
       "    </tr>\n",
       "    <tr>\n",
       "      <th>unique</th>\n",
       "      <td>29</td>\n",
       "      <td>293</td>\n",
       "      <td>86931</td>\n",
       "      <td>102077</td>\n",
       "      <td>8</td>\n",
       "      <td>107969</td>\n",
       "    </tr>\n",
       "    <tr>\n",
       "      <th>top</th>\n",
       "      <td>Cundinamarca</td>\n",
       "      <td>Bogotá D.C</td>\n",
       "      <td>Apartamento en Venta Ubicado en MEDELLIN</td>\n",
       "      <td>En Rentahouse Finca Raiz contamos con más de 5...</td>\n",
       "      <td>Apartamento</td>\n",
       "      <td>0          6.203000\\n1          4.722748\\n2   ...</td>\n",
       "    </tr>\n",
       "    <tr>\n",
       "      <th>freq</th>\n",
       "      <td>28524</td>\n",
       "      <td>21401</td>\n",
       "      <td>328</td>\n",
       "      <td>496</td>\n",
       "      <td>53823</td>\n",
       "      <td>1</td>\n",
       "    </tr>\n",
       "  </tbody>\n",
       "</table>\n",
       "</div>"
      ],
      "text/plain": [
       "                  l2          l3                                     title  \\\n",
       "count         107970      107969                                    107970   \n",
       "unique            29         293                                     86931   \n",
       "top     Cundinamarca  Bogotá D.C  Apartamento en Venta Ubicado en MEDELLIN   \n",
       "freq           28524       21401                                       328   \n",
       "\n",
       "                                              description property_type  \\\n",
       "count                                              107970        107970   \n",
       "unique                                             102077             8   \n",
       "top     En Rentahouse Finca Raiz contamos con más de 5...   Apartamento   \n",
       "freq                                                  496         53823   \n",
       "\n",
       "                                            indica_duplos  \n",
       "count                                              107969  \n",
       "unique                                             107969  \n",
       "top     0          6.203000\\n1          4.722748\\n2   ...  \n",
       "freq                                                    1  "
      ]
     },
     "execution_count": 208,
     "metadata": {},
     "output_type": "execute_result"
    }
   ],
   "source": [
    "df.describe(include=object)"
   ]
  },
  {
   "cell_type": "markdown",
   "metadata": {},
   "source": [
    "Se aprecia que el campo \"days_to_sale\" no aparece. Se debe a que fue creado como datetime y lo que se necesita es un entero (int)\n",
    "Lo convertiremos!"
   ]
  },
  {
   "cell_type": "code",
   "execution_count": 229,
   "metadata": {},
   "outputs": [],
   "source": [
    "import datetime\n",
    "df['days_to_sale'] = (df['days_to_sale'][50])/datetime.timedelta(days=1)"
   ]
  },
  {
   "cell_type": "code",
   "execution_count": 307,
   "metadata": {},
   "outputs": [
    {
     "data": {
      "text/html": [
       "<div>\n",
       "<style scoped>\n",
       "    .dataframe tbody tr th:only-of-type {\n",
       "        vertical-align: middle;\n",
       "    }\n",
       "\n",
       "    .dataframe tbody tr th {\n",
       "        vertical-align: top;\n",
       "    }\n",
       "\n",
       "    .dataframe thead th {\n",
       "        text-align: right;\n",
       "    }\n",
       "</style>\n",
       "<table border=\"1\" class=\"dataframe\">\n",
       "  <thead>\n",
       "    <tr style=\"text-align: right;\">\n",
       "      <th></th>\n",
       "      <th>new_id</th>\n",
       "      <th>lat</th>\n",
       "      <th>lon</th>\n",
       "      <th>bathrooms</th>\n",
       "      <th>price</th>\n",
       "      <th>prec_prom</th>\n",
       "      <th>days_to_sale</th>\n",
       "    </tr>\n",
       "  </thead>\n",
       "  <tbody>\n",
       "    <tr>\n",
       "      <th>count</th>\n",
       "      <td>107970.000000</td>\n",
       "      <td>94078.000000</td>\n",
       "      <td>94078.000000</td>\n",
       "      <td>83221.000000</td>\n",
       "      <td>1.079120e+05</td>\n",
       "      <td>1.079700e+05</td>\n",
       "      <td>107970.0</td>\n",
       "    </tr>\n",
       "    <tr>\n",
       "      <th>mean</th>\n",
       "      <td>499908.525322</td>\n",
       "      <td>5.712392</td>\n",
       "      <td>-75.008789</td>\n",
       "      <td>2.685728</td>\n",
       "      <td>6.881701e+08</td>\n",
       "      <td>6.436051e+08</td>\n",
       "      <td>93.0</td>\n",
       "    </tr>\n",
       "    <tr>\n",
       "      <th>std</th>\n",
       "      <td>292205.367637</td>\n",
       "      <td>2.218683</td>\n",
       "      <td>1.083715</td>\n",
       "      <td>1.473333</td>\n",
       "      <td>2.302102e+09</td>\n",
       "      <td>0.000000e+00</td>\n",
       "      <td>0.0</td>\n",
       "    </tr>\n",
       "    <tr>\n",
       "      <th>min</th>\n",
       "      <td>1.000000</td>\n",
       "      <td>-32.787342</td>\n",
       "      <td>-119.698190</td>\n",
       "      <td>1.000000</td>\n",
       "      <td>0.000000e+00</td>\n",
       "      <td>6.436051e+08</td>\n",
       "      <td>93.0</td>\n",
       "    </tr>\n",
       "    <tr>\n",
       "      <th>25%</th>\n",
       "      <td>234647.000000</td>\n",
       "      <td>4.603000</td>\n",
       "      <td>-75.608000</td>\n",
       "      <td>2.000000</td>\n",
       "      <td>2.000000e+08</td>\n",
       "      <td>6.436051e+08</td>\n",
       "      <td>93.0</td>\n",
       "    </tr>\n",
       "    <tr>\n",
       "      <th>50%</th>\n",
       "      <td>510507.500000</td>\n",
       "      <td>4.862922</td>\n",
       "      <td>-75.420642</td>\n",
       "      <td>2.000000</td>\n",
       "      <td>3.420000e+08</td>\n",
       "      <td>6.436051e+08</td>\n",
       "      <td>93.0</td>\n",
       "    </tr>\n",
       "    <tr>\n",
       "      <th>75%</th>\n",
       "      <td>778096.500000</td>\n",
       "      <td>6.247486</td>\n",
       "      <td>-74.077442</td>\n",
       "      <td>3.000000</td>\n",
       "      <td>6.500000e+08</td>\n",
       "      <td>6.436051e+08</td>\n",
       "      <td>93.0</td>\n",
       "    </tr>\n",
       "    <tr>\n",
       "      <th>max</th>\n",
       "      <td>993551.000000</td>\n",
       "      <td>34.420334</td>\n",
       "      <td>-67.482570</td>\n",
       "      <td>20.000000</td>\n",
       "      <td>3.450000e+11</td>\n",
       "      <td>6.436051e+08</td>\n",
       "      <td>93.0</td>\n",
       "    </tr>\n",
       "  </tbody>\n",
       "</table>\n",
       "</div>"
      ],
      "text/plain": [
       "              new_id           lat           lon     bathrooms         price  \\\n",
       "count  107970.000000  94078.000000  94078.000000  83221.000000  1.079120e+05   \n",
       "mean   499908.525322      5.712392    -75.008789      2.685728  6.881701e+08   \n",
       "std    292205.367637      2.218683      1.083715      1.473333  2.302102e+09   \n",
       "min         1.000000    -32.787342   -119.698190      1.000000  0.000000e+00   \n",
       "25%    234647.000000      4.603000    -75.608000      2.000000  2.000000e+08   \n",
       "50%    510507.500000      4.862922    -75.420642      2.000000  3.420000e+08   \n",
       "75%    778096.500000      6.247486    -74.077442      3.000000  6.500000e+08   \n",
       "max    993551.000000     34.420334    -67.482570     20.000000  3.450000e+11   \n",
       "\n",
       "          prec_prom  days_to_sale  \n",
       "count  1.079700e+05      107970.0  \n",
       "mean   6.436051e+08          93.0  \n",
       "std    0.000000e+00           0.0  \n",
       "min    6.436051e+08          93.0  \n",
       "25%    6.436051e+08          93.0  \n",
       "50%    6.436051e+08          93.0  \n",
       "75%    6.436051e+08          93.0  \n",
       "max    6.436051e+08          93.0  "
      ]
     },
     "execution_count": 307,
     "metadata": {},
     "output_type": "execute_result"
    }
   ],
   "source": [
    "df.describe()\n",
    "#AHORA YA APARECE COMO ENTERO ! 😲"
   ]
  },
  {
   "cell_type": "code",
   "execution_count": 231,
   "metadata": {},
   "outputs": [
    {
     "data": {
      "text/html": [
       "<div>\n",
       "<style scoped>\n",
       "    .dataframe tbody tr th:only-of-type {\n",
       "        vertical-align: middle;\n",
       "    }\n",
       "\n",
       "    .dataframe tbody tr th {\n",
       "        vertical-align: top;\n",
       "    }\n",
       "\n",
       "    .dataframe thead th {\n",
       "        text-align: right;\n",
       "    }\n",
       "</style>\n",
       "<table border=\"1\" class=\"dataframe\">\n",
       "  <thead>\n",
       "    <tr style=\"text-align: right;\">\n",
       "      <th></th>\n",
       "      <th>l2</th>\n",
       "      <th>l3</th>\n",
       "      <th>title</th>\n",
       "      <th>description</th>\n",
       "      <th>property_type</th>\n",
       "      <th>indica_duplos</th>\n",
       "    </tr>\n",
       "  </thead>\n",
       "  <tbody>\n",
       "    <tr>\n",
       "      <th>count</th>\n",
       "      <td>107970</td>\n",
       "      <td>107969</td>\n",
       "      <td>107970</td>\n",
       "      <td>107970</td>\n",
       "      <td>107970</td>\n",
       "      <td>107969</td>\n",
       "    </tr>\n",
       "    <tr>\n",
       "      <th>unique</th>\n",
       "      <td>29</td>\n",
       "      <td>293</td>\n",
       "      <td>86931</td>\n",
       "      <td>102077</td>\n",
       "      <td>8</td>\n",
       "      <td>107969</td>\n",
       "    </tr>\n",
       "    <tr>\n",
       "      <th>top</th>\n",
       "      <td>Cundinamarca</td>\n",
       "      <td>Bogotá D.C</td>\n",
       "      <td>Apartamento en Venta Ubicado en MEDELLIN</td>\n",
       "      <td>En Rentahouse Finca Raiz contamos con más de 5...</td>\n",
       "      <td>Apartamento</td>\n",
       "      <td>0          6.203000\\n1          4.722748\\n2   ...</td>\n",
       "    </tr>\n",
       "    <tr>\n",
       "      <th>freq</th>\n",
       "      <td>28524</td>\n",
       "      <td>21401</td>\n",
       "      <td>328</td>\n",
       "      <td>496</td>\n",
       "      <td>53823</td>\n",
       "      <td>1</td>\n",
       "    </tr>\n",
       "  </tbody>\n",
       "</table>\n",
       "</div>"
      ],
      "text/plain": [
       "                  l2          l3                                     title  \\\n",
       "count         107970      107969                                    107970   \n",
       "unique            29         293                                     86931   \n",
       "top     Cundinamarca  Bogotá D.C  Apartamento en Venta Ubicado en MEDELLIN   \n",
       "freq           28524       21401                                       328   \n",
       "\n",
       "                                              description property_type  \\\n",
       "count                                              107970        107970   \n",
       "unique                                             102077             8   \n",
       "top     En Rentahouse Finca Raiz contamos con más de 5...   Apartamento   \n",
       "freq                                                  496         53823   \n",
       "\n",
       "                                            indica_duplos  \n",
       "count                                              107969  \n",
       "unique                                             107969  \n",
       "top     0          6.203000\\n1          4.722748\\n2   ...  \n",
       "freq                                                    1  "
      ]
     },
     "execution_count": 231,
     "metadata": {},
     "output_type": "execute_result"
    }
   ],
   "source": [
    "df.describe(include=object)"
   ]
  },
  {
   "cell_type": "markdown",
   "metadata": {},
   "source": [
    "INSERTAMOS COLUMNA CON INDICADOR: BARATO o CARO\n",
    "Comparamos columna \"price\" con \"prec_prom\""
   ]
  },
  {
   "cell_type": "code",
   "execution_count": 637,
   "metadata": {},
   "outputs": [
    {
     "data": {
      "text/html": [
       "<div>\n",
       "<style scoped>\n",
       "    .dataframe tbody tr th:only-of-type {\n",
       "        vertical-align: middle;\n",
       "    }\n",
       "\n",
       "    .dataframe tbody tr th {\n",
       "        vertical-align: top;\n",
       "    }\n",
       "\n",
       "    .dataframe thead th {\n",
       "        text-align: right;\n",
       "    }\n",
       "</style>\n",
       "<table border=\"1\" class=\"dataframe\">\n",
       "  <thead>\n",
       "    <tr style=\"text-align: right;\">\n",
       "      <th></th>\n",
       "      <th>lat</th>\n",
       "      <th>lon</th>\n",
       "      <th>bathrooms</th>\n",
       "      <th>price</th>\n",
       "      <th>property_type</th>\n",
       "      <th>prec_prom</th>\n",
       "      <th>days_to_sale</th>\n",
       "      <th>target</th>\n",
       "    </tr>\n",
       "  </thead>\n",
       "  <tbody>\n",
       "    <tr>\n",
       "      <th>0</th>\n",
       "      <td>6.203000</td>\n",
       "      <td>-75.572000</td>\n",
       "      <td>4.0</td>\n",
       "      <td>9.000000e+09</td>\n",
       "      <td>6</td>\n",
       "      <td>6.436051e+08</td>\n",
       "      <td>93.0</td>\n",
       "      <td>1</td>\n",
       "    </tr>\n",
       "    <tr>\n",
       "      <th>1</th>\n",
       "      <td>4.722748</td>\n",
       "      <td>-74.073115</td>\n",
       "      <td>2.0</td>\n",
       "      <td>6.250000e+08</td>\n",
       "      <td>7</td>\n",
       "      <td>6.436051e+08</td>\n",
       "      <td>93.0</td>\n",
       "      <td>0</td>\n",
       "    </tr>\n",
       "    <tr>\n",
       "      <th>2</th>\n",
       "      <td>4.709000</td>\n",
       "      <td>-74.030000</td>\n",
       "      <td>2.0</td>\n",
       "      <td>4.200000e+08</td>\n",
       "      <td>6</td>\n",
       "      <td>6.436051e+08</td>\n",
       "      <td>93.0</td>\n",
       "      <td>0</td>\n",
       "    </tr>\n",
       "    <tr>\n",
       "      <th>5</th>\n",
       "      <td>5.049009</td>\n",
       "      <td>-75.506802</td>\n",
       "      <td>2.0</td>\n",
       "      <td>1.679523e+08</td>\n",
       "      <td>7</td>\n",
       "      <td>6.436051e+08</td>\n",
       "      <td>93.0</td>\n",
       "      <td>0</td>\n",
       "    </tr>\n",
       "    <tr>\n",
       "      <th>6</th>\n",
       "      <td>4.732379</td>\n",
       "      <td>-74.082150</td>\n",
       "      <td>8.0</td>\n",
       "      <td>2.700000e+09</td>\n",
       "      <td>6</td>\n",
       "      <td>6.436051e+08</td>\n",
       "      <td>93.0</td>\n",
       "      <td>1</td>\n",
       "    </tr>\n",
       "    <tr>\n",
       "      <th>...</th>\n",
       "      <td>...</td>\n",
       "      <td>...</td>\n",
       "      <td>...</td>\n",
       "      <td>...</td>\n",
       "      <td>...</td>\n",
       "      <td>...</td>\n",
       "      <td>...</td>\n",
       "      <td>...</td>\n",
       "    </tr>\n",
       "    <tr>\n",
       "      <th>197529</th>\n",
       "      <td>6.341000</td>\n",
       "      <td>-75.552000</td>\n",
       "      <td>1.0</td>\n",
       "      <td>1.550000e+08</td>\n",
       "      <td>7</td>\n",
       "      <td>6.436051e+08</td>\n",
       "      <td>93.0</td>\n",
       "      <td>0</td>\n",
       "    </tr>\n",
       "    <tr>\n",
       "      <th>197535</th>\n",
       "      <td>4.716000</td>\n",
       "      <td>-74.031000</td>\n",
       "      <td>2.0</td>\n",
       "      <td>2.700000e+08</td>\n",
       "      <td>7</td>\n",
       "      <td>6.436051e+08</td>\n",
       "      <td>93.0</td>\n",
       "      <td>0</td>\n",
       "    </tr>\n",
       "    <tr>\n",
       "      <th>197540</th>\n",
       "      <td>4.812975</td>\n",
       "      <td>-75.663720</td>\n",
       "      <td>2.0</td>\n",
       "      <td>1.350000e+08</td>\n",
       "      <td>6</td>\n",
       "      <td>6.436051e+08</td>\n",
       "      <td>93.0</td>\n",
       "      <td>0</td>\n",
       "    </tr>\n",
       "    <tr>\n",
       "      <th>197542</th>\n",
       "      <td>7.064000</td>\n",
       "      <td>-73.106000</td>\n",
       "      <td>2.0</td>\n",
       "      <td>3.450000e+08</td>\n",
       "      <td>7</td>\n",
       "      <td>6.436051e+08</td>\n",
       "      <td>93.0</td>\n",
       "      <td>0</td>\n",
       "    </tr>\n",
       "    <tr>\n",
       "      <th>197545</th>\n",
       "      <td>4.668000</td>\n",
       "      <td>-74.055000</td>\n",
       "      <td>1.0</td>\n",
       "      <td>1.350000e+08</td>\n",
       "      <td>2</td>\n",
       "      <td>6.436051e+08</td>\n",
       "      <td>93.0</td>\n",
       "      <td>0</td>\n",
       "    </tr>\n",
       "  </tbody>\n",
       "</table>\n",
       "<p>70950 rows × 8 columns</p>\n",
       "</div>"
      ],
      "text/plain": [
       "             lat        lon  bathrooms         price  property_type  \\\n",
       "0       6.203000 -75.572000        4.0  9.000000e+09              6   \n",
       "1       4.722748 -74.073115        2.0  6.250000e+08              7   \n",
       "2       4.709000 -74.030000        2.0  4.200000e+08              6   \n",
       "5       5.049009 -75.506802        2.0  1.679523e+08              7   \n",
       "6       4.732379 -74.082150        8.0  2.700000e+09              6   \n",
       "...          ...        ...        ...           ...            ...   \n",
       "197529  6.341000 -75.552000        1.0  1.550000e+08              7   \n",
       "197535  4.716000 -74.031000        2.0  2.700000e+08              7   \n",
       "197540  4.812975 -75.663720        2.0  1.350000e+08              6   \n",
       "197542  7.064000 -73.106000        2.0  3.450000e+08              7   \n",
       "197545  4.668000 -74.055000        1.0  1.350000e+08              2   \n",
       "\n",
       "           prec_prom  days_to_sale  target  \n",
       "0       6.436051e+08          93.0       1  \n",
       "1       6.436051e+08          93.0       0  \n",
       "2       6.436051e+08          93.0       0  \n",
       "5       6.436051e+08          93.0       0  \n",
       "6       6.436051e+08          93.0       1  \n",
       "...              ...           ...     ...  \n",
       "197529  6.436051e+08          93.0       0  \n",
       "197535  6.436051e+08          93.0       0  \n",
       "197540  6.436051e+08          93.0       0  \n",
       "197542  6.436051e+08          93.0       0  \n",
       "197545  6.436051e+08          93.0       0  \n",
       "\n",
       "[70950 rows x 8 columns]"
      ]
     },
     "execution_count": 637,
     "metadata": {},
     "output_type": "execute_result"
    }
   ],
   "source": [
    "df.dropna(subset=['price','prec_prom'])"
   ]
  },
  {
   "cell_type": "code",
   "execution_count": 362,
   "metadata": {},
   "outputs": [],
   "source": [
    "df['ind_prec'] = df['price'] - df['prec_prom']\n",
    "#df['ind_prec'] es una columna temporal"
   ]
  },
  {
   "cell_type": "code",
   "execution_count": 368,
   "metadata": {},
   "outputs": [],
   "source": [
    "\n",
    "indica=list()\n",
    "for f in df['ind_prec']:\n",
    "    if f > 0:\n",
    "        indica.append(1) #baratp\n",
    "    else:\n",
    "        indica.append(0) #caro\n"
   ]
  },
  {
   "cell_type": "code",
   "execution_count": 369,
   "metadata": {},
   "outputs": [],
   "source": [
    "df['target']=indica"
   ]
  },
  {
   "cell_type": "code",
   "execution_count": 236,
   "metadata": {},
   "outputs": [
    {
     "data": {
      "text/plain": [
       "Apartamento        53823\n",
       "Casa               35341\n",
       "Lote                8208\n",
       "Otro                8095\n",
       "Local comercial     1030\n",
       "Oficina             1005\n",
       "Finca                463\n",
       "Parqueadero            5\n",
       "Name: property_type, dtype: int64"
      ]
     },
     "execution_count": 236,
     "metadata": {},
     "output_type": "execute_result"
    }
   ],
   "source": [
    "df['property_type'].value_counts()"
   ]
  },
  {
   "cell_type": "markdown",
   "metadata": {},
   "source": [
    "CONVERTIREMOS LA COLUMNA property_type en ORDINAL"
   ]
  },
  {
   "cell_type": "code",
   "execution_count": 565,
   "metadata": {},
   "outputs": [
    {
     "data": {
      "text/plain": [
       "array([[1.],\n",
       "       [0.],\n",
       "       [1.],\n",
       "       ...,\n",
       "       [1.],\n",
       "       [0.],\n",
       "       [5.]])"
      ]
     },
     "execution_count": 565,
     "metadata": {},
     "output_type": "execute_result"
    }
   ],
   "source": [
    "\n",
    "from sklearn.preprocessing import OrdinalEncoder\n",
    "ordinal_code = OrdinalEncoder()\n",
    "ordinal_code.fit_transform(df[['property_type']])"
   ]
  },
  {
   "cell_type": "code",
   "execution_count": 566,
   "metadata": {},
   "outputs": [
    {
     "data": {
      "text/plain": [
       "[array(['Apartamento', 'Casa', 'Finca', 'Local comercial', 'Lote',\n",
       "        'Oficina', 'Otro'], dtype=object)]"
      ]
     },
     "execution_count": 566,
     "metadata": {},
     "output_type": "execute_result"
    }
   ],
   "source": [
    "ordinal_code.categories_"
   ]
  },
  {
   "cell_type": "code",
   "execution_count": null,
   "metadata": {},
   "outputs": [],
   "source": [
    "reemplaza_property={\"Apartamento\":7, \"Casa\":6, \"Finca\":5, \"Local comercial\":4, \"Lote\":3, 'Oficina':2, 'Otro':1}\n",
    "X.replace(reemplaza_property, inplace=True)"
   ]
  },
  {
   "cell_type": "markdown",
   "metadata": {},
   "source": [
    "PIPELINE ! "
   ]
  },
  {
   "cell_type": "code",
   "execution_count": 7,
   "metadata": {},
   "outputs": [],
   "source": [
    "#Modulos para el Pipeline\n",
    "from sklearn.pipeline import Pipeline\n",
    "from sklearn.compose import ColumnTransformer\n",
    "from sklearn.preprocessing import StandardScaler, OneHotEncoder"
   ]
  },
  {
   "cell_type": "code",
   "execution_count": 381,
   "metadata": {},
   "outputs": [],
   "source": [
    "indica2=list()\n",
    "for f in df['target']:\n",
    "    if f > 0:\n",
    "        indica2.append(1) #baratp\n",
    "    else:\n",
    "        indica2.append(0) #caro"
   ]
  },
  {
   "cell_type": "code",
   "execution_count": 491,
   "metadata": {},
   "outputs": [],
   "source": [
    "df.drop(columns={'new_id'}, inplace=True)"
   ]
  },
  {
   "cell_type": "code",
   "execution_count": 8,
   "metadata": {},
   "outputs": [],
   "source": [
    "#Armando la lista de Variables Numéricas y Categóricas\n",
    "#Numéricas: lat, lon, bathrooms, price, days_to_sale\n",
    "#Categóricas: l2, l3, title, description, property_type\n",
    "\n",
    "numeric_list = ['lat', 'lon', 'bathrooms', 'price', 'days_to_sale', 'target', 'prec_prom']\n",
    "categorical_list = [  'property_type']\n",
    "\n"
   ]
  },
  {
   "cell_type": "markdown",
   "metadata": {},
   "source": [
    "Creación del Pipeline de Pre-procesamiento para datos numéricos y categóricos"
   ]
  },
  {
   "cell_type": "code",
   "execution_count": 9,
   "metadata": {},
   "outputs": [],
   "source": [
    "#Transformaciones\n",
    "numeric_transformer= Pipeline( steps=[ ('scaler', StandardScaler()) ] )\n",
    "categorical_transformer = Pipeline( steps= [ ('onehot', OneHotEncoder() ) ] )"
   ]
  },
  {
   "cell_type": "code",
   "execution_count": 10,
   "metadata": {},
   "outputs": [],
   "source": [
    "#Transformadores\n",
    "transformer = ColumnTransformer ([\n",
    "    ('num', numeric_transformer, numeric_list),\n",
    "    ('cat', categorical_transformer, categorical_list)\n",
    "])"
   ]
  },
  {
   "cell_type": "markdown",
   "metadata": {},
   "source": [
    "PREPARAR LAS MUESTRAS PARA EL ENTRENAMIENTO\n",
    "Traning: 70%\n",
    "Test: 30%"
   ]
  },
  {
   "cell_type": "code",
   "execution_count": 528,
   "metadata": {},
   "outputs": [
    {
     "data": {
      "text/html": [
       "<div>\n",
       "<style scoped>\n",
       "    .dataframe tbody tr th:only-of-type {\n",
       "        vertical-align: middle;\n",
       "    }\n",
       "\n",
       "    .dataframe tbody tr th {\n",
       "        vertical-align: top;\n",
       "    }\n",
       "\n",
       "    .dataframe thead th {\n",
       "        text-align: right;\n",
       "    }\n",
       "</style>\n",
       "<table border=\"1\" class=\"dataframe\">\n",
       "  <thead>\n",
       "    <tr style=\"text-align: right;\">\n",
       "      <th></th>\n",
       "      <th>lat</th>\n",
       "      <th>lon</th>\n",
       "      <th>bathrooms</th>\n",
       "      <th>price</th>\n",
       "      <th>property_type</th>\n",
       "      <th>prec_prom</th>\n",
       "      <th>days_to_sale</th>\n",
       "      <th>indica_duplos</th>\n",
       "      <th>target</th>\n",
       "    </tr>\n",
       "  </thead>\n",
       "  <tbody>\n",
       "    <tr>\n",
       "      <th>0</th>\n",
       "      <td>6.203000</td>\n",
       "      <td>-75.572000</td>\n",
       "      <td>4.0</td>\n",
       "      <td>9.000000e+09</td>\n",
       "      <td>Casa</td>\n",
       "      <td>6.436051e+08</td>\n",
       "      <td>93.0</td>\n",
       "      <td>0          6.203000\\n1          4.722748\\n2   ...</td>\n",
       "      <td>1</td>\n",
       "    </tr>\n",
       "    <tr>\n",
       "      <th>1</th>\n",
       "      <td>4.722748</td>\n",
       "      <td>-74.073115</td>\n",
       "      <td>2.0</td>\n",
       "      <td>6.250000e+08</td>\n",
       "      <td>Apartamento</td>\n",
       "      <td>6.436051e+08</td>\n",
       "      <td>93.0</td>\n",
       "      <td>0          6.203000\\n1          4.722748\\n2   ...</td>\n",
       "      <td>0</td>\n",
       "    </tr>\n",
       "    <tr>\n",
       "      <th>2</th>\n",
       "      <td>4.709000</td>\n",
       "      <td>-74.030000</td>\n",
       "      <td>2.0</td>\n",
       "      <td>4.200000e+08</td>\n",
       "      <td>Casa</td>\n",
       "      <td>6.436051e+08</td>\n",
       "      <td>93.0</td>\n",
       "      <td>0          6.203000\\n1          4.722748\\n2   ...</td>\n",
       "      <td>0</td>\n",
       "    </tr>\n",
       "    <tr>\n",
       "      <th>5</th>\n",
       "      <td>5.049009</td>\n",
       "      <td>-75.506802</td>\n",
       "      <td>2.0</td>\n",
       "      <td>1.679523e+08</td>\n",
       "      <td>Apartamento</td>\n",
       "      <td>6.436051e+08</td>\n",
       "      <td>93.0</td>\n",
       "      <td>0          6.203000\\n1          4.722748\\n2   ...</td>\n",
       "      <td>0</td>\n",
       "    </tr>\n",
       "    <tr>\n",
       "      <th>6</th>\n",
       "      <td>4.732379</td>\n",
       "      <td>-74.082150</td>\n",
       "      <td>8.0</td>\n",
       "      <td>2.700000e+09</td>\n",
       "      <td>Casa</td>\n",
       "      <td>6.436051e+08</td>\n",
       "      <td>93.0</td>\n",
       "      <td>0          6.203000\\n1          4.722748\\n2   ...</td>\n",
       "      <td>1</td>\n",
       "    </tr>\n",
       "    <tr>\n",
       "      <th>...</th>\n",
       "      <td>...</td>\n",
       "      <td>...</td>\n",
       "      <td>...</td>\n",
       "      <td>...</td>\n",
       "      <td>...</td>\n",
       "      <td>...</td>\n",
       "      <td>...</td>\n",
       "      <td>...</td>\n",
       "      <td>...</td>\n",
       "    </tr>\n",
       "    <tr>\n",
       "      <th>197529</th>\n",
       "      <td>6.341000</td>\n",
       "      <td>-75.552000</td>\n",
       "      <td>1.0</td>\n",
       "      <td>1.550000e+08</td>\n",
       "      <td>Apartamento</td>\n",
       "      <td>6.436051e+08</td>\n",
       "      <td>93.0</td>\n",
       "      <td>0          6.203000\\n1          4.722748\\n2   ...</td>\n",
       "      <td>0</td>\n",
       "    </tr>\n",
       "    <tr>\n",
       "      <th>197535</th>\n",
       "      <td>4.716000</td>\n",
       "      <td>-74.031000</td>\n",
       "      <td>2.0</td>\n",
       "      <td>2.700000e+08</td>\n",
       "      <td>Apartamento</td>\n",
       "      <td>6.436051e+08</td>\n",
       "      <td>93.0</td>\n",
       "      <td>0          6.203000\\n1          4.722748\\n2   ...</td>\n",
       "      <td>0</td>\n",
       "    </tr>\n",
       "    <tr>\n",
       "      <th>197540</th>\n",
       "      <td>4.812975</td>\n",
       "      <td>-75.663720</td>\n",
       "      <td>2.0</td>\n",
       "      <td>1.350000e+08</td>\n",
       "      <td>Casa</td>\n",
       "      <td>6.436051e+08</td>\n",
       "      <td>93.0</td>\n",
       "      <td>0          6.203000\\n1          4.722748\\n2   ...</td>\n",
       "      <td>0</td>\n",
       "    </tr>\n",
       "    <tr>\n",
       "      <th>197542</th>\n",
       "      <td>7.064000</td>\n",
       "      <td>-73.106000</td>\n",
       "      <td>2.0</td>\n",
       "      <td>3.450000e+08</td>\n",
       "      <td>Apartamento</td>\n",
       "      <td>6.436051e+08</td>\n",
       "      <td>93.0</td>\n",
       "      <td>0          6.203000\\n1          4.722748\\n2   ...</td>\n",
       "      <td>0</td>\n",
       "    </tr>\n",
       "    <tr>\n",
       "      <th>197545</th>\n",
       "      <td>4.668000</td>\n",
       "      <td>-74.055000</td>\n",
       "      <td>1.0</td>\n",
       "      <td>1.350000e+08</td>\n",
       "      <td>Oficina</td>\n",
       "      <td>6.436051e+08</td>\n",
       "      <td>93.0</td>\n",
       "      <td>0          6.203000\\n1          4.722748\\n2   ...</td>\n",
       "      <td>0</td>\n",
       "    </tr>\n",
       "  </tbody>\n",
       "</table>\n",
       "<p>70950 rows × 9 columns</p>\n",
       "</div>"
      ],
      "text/plain": [
       "             lat        lon  bathrooms         price property_type  \\\n",
       "0       6.203000 -75.572000        4.0  9.000000e+09          Casa   \n",
       "1       4.722748 -74.073115        2.0  6.250000e+08   Apartamento   \n",
       "2       4.709000 -74.030000        2.0  4.200000e+08          Casa   \n",
       "5       5.049009 -75.506802        2.0  1.679523e+08   Apartamento   \n",
       "6       4.732379 -74.082150        8.0  2.700000e+09          Casa   \n",
       "...          ...        ...        ...           ...           ...   \n",
       "197529  6.341000 -75.552000        1.0  1.550000e+08   Apartamento   \n",
       "197535  4.716000 -74.031000        2.0  2.700000e+08   Apartamento   \n",
       "197540  4.812975 -75.663720        2.0  1.350000e+08          Casa   \n",
       "197542  7.064000 -73.106000        2.0  3.450000e+08   Apartamento   \n",
       "197545  4.668000 -74.055000        1.0  1.350000e+08       Oficina   \n",
       "\n",
       "           prec_prom  days_to_sale  \\\n",
       "0       6.436051e+08          93.0   \n",
       "1       6.436051e+08          93.0   \n",
       "2       6.436051e+08          93.0   \n",
       "5       6.436051e+08          93.0   \n",
       "6       6.436051e+08          93.0   \n",
       "...              ...           ...   \n",
       "197529  6.436051e+08          93.0   \n",
       "197535  6.436051e+08          93.0   \n",
       "197540  6.436051e+08          93.0   \n",
       "197542  6.436051e+08          93.0   \n",
       "197545  6.436051e+08          93.0   \n",
       "\n",
       "                                            indica_duplos  target  \n",
       "0       0          6.203000\\n1          4.722748\\n2   ...       1  \n",
       "1       0          6.203000\\n1          4.722748\\n2   ...       0  \n",
       "2       0          6.203000\\n1          4.722748\\n2   ...       0  \n",
       "5       0          6.203000\\n1          4.722748\\n2   ...       0  \n",
       "6       0          6.203000\\n1          4.722748\\n2   ...       1  \n",
       "...                                                   ...     ...  \n",
       "197529  0          6.203000\\n1          4.722748\\n2   ...       0  \n",
       "197535  0          6.203000\\n1          4.722748\\n2   ...       0  \n",
       "197540  0          6.203000\\n1          4.722748\\n2   ...       0  \n",
       "197542  0          6.203000\\n1          4.722748\\n2   ...       0  \n",
       "197545  0          6.203000\\n1          4.722748\\n2   ...       0  \n",
       "\n",
       "[70950 rows x 9 columns]"
      ]
     },
     "execution_count": 528,
     "metadata": {},
     "output_type": "execute_result"
    }
   ],
   "source": [
    "X.dropna()"
   ]
  },
  {
   "cell_type": "code",
   "execution_count": 541,
   "metadata": {},
   "outputs": [
    {
     "data": {
      "text/html": [
       "<div>\n",
       "<style scoped>\n",
       "    .dataframe tbody tr th:only-of-type {\n",
       "        vertical-align: middle;\n",
       "    }\n",
       "\n",
       "    .dataframe tbody tr th {\n",
       "        vertical-align: top;\n",
       "    }\n",
       "\n",
       "    .dataframe thead th {\n",
       "        text-align: right;\n",
       "    }\n",
       "</style>\n",
       "<table border=\"1\" class=\"dataframe\">\n",
       "  <thead>\n",
       "    <tr style=\"text-align: right;\">\n",
       "      <th></th>\n",
       "      <th>lat</th>\n",
       "      <th>lon</th>\n",
       "      <th>bathrooms</th>\n",
       "      <th>price</th>\n",
       "      <th>property_type</th>\n",
       "      <th>prec_prom</th>\n",
       "      <th>days_to_sale</th>\n",
       "      <th>indica_duplos</th>\n",
       "      <th>target</th>\n",
       "    </tr>\n",
       "  </thead>\n",
       "  <tbody>\n",
       "    <tr>\n",
       "      <th>0</th>\n",
       "      <td>6.203000</td>\n",
       "      <td>-75.572000</td>\n",
       "      <td>4.0</td>\n",
       "      <td>9.000000e+09</td>\n",
       "      <td>Casa</td>\n",
       "      <td>6.436051e+08</td>\n",
       "      <td>93.0</td>\n",
       "      <td>0          6.203000\\n1          4.722748\\n2   ...</td>\n",
       "      <td>1</td>\n",
       "    </tr>\n",
       "    <tr>\n",
       "      <th>1</th>\n",
       "      <td>4.722748</td>\n",
       "      <td>-74.073115</td>\n",
       "      <td>2.0</td>\n",
       "      <td>6.250000e+08</td>\n",
       "      <td>Apartamento</td>\n",
       "      <td>6.436051e+08</td>\n",
       "      <td>93.0</td>\n",
       "      <td>0          6.203000\\n1          4.722748\\n2   ...</td>\n",
       "      <td>0</td>\n",
       "    </tr>\n",
       "    <tr>\n",
       "      <th>2</th>\n",
       "      <td>4.709000</td>\n",
       "      <td>-74.030000</td>\n",
       "      <td>2.0</td>\n",
       "      <td>4.200000e+08</td>\n",
       "      <td>Casa</td>\n",
       "      <td>6.436051e+08</td>\n",
       "      <td>93.0</td>\n",
       "      <td>0          6.203000\\n1          4.722748\\n2   ...</td>\n",
       "      <td>0</td>\n",
       "    </tr>\n",
       "    <tr>\n",
       "      <th>5</th>\n",
       "      <td>5.049009</td>\n",
       "      <td>-75.506802</td>\n",
       "      <td>2.0</td>\n",
       "      <td>1.679523e+08</td>\n",
       "      <td>Apartamento</td>\n",
       "      <td>6.436051e+08</td>\n",
       "      <td>93.0</td>\n",
       "      <td>0          6.203000\\n1          4.722748\\n2   ...</td>\n",
       "      <td>0</td>\n",
       "    </tr>\n",
       "    <tr>\n",
       "      <th>6</th>\n",
       "      <td>4.732379</td>\n",
       "      <td>-74.082150</td>\n",
       "      <td>8.0</td>\n",
       "      <td>2.700000e+09</td>\n",
       "      <td>Casa</td>\n",
       "      <td>6.436051e+08</td>\n",
       "      <td>93.0</td>\n",
       "      <td>0          6.203000\\n1          4.722748\\n2   ...</td>\n",
       "      <td>1</td>\n",
       "    </tr>\n",
       "    <tr>\n",
       "      <th>...</th>\n",
       "      <td>...</td>\n",
       "      <td>...</td>\n",
       "      <td>...</td>\n",
       "      <td>...</td>\n",
       "      <td>...</td>\n",
       "      <td>...</td>\n",
       "      <td>...</td>\n",
       "      <td>...</td>\n",
       "      <td>...</td>\n",
       "    </tr>\n",
       "    <tr>\n",
       "      <th>197529</th>\n",
       "      <td>6.341000</td>\n",
       "      <td>-75.552000</td>\n",
       "      <td>1.0</td>\n",
       "      <td>1.550000e+08</td>\n",
       "      <td>Apartamento</td>\n",
       "      <td>6.436051e+08</td>\n",
       "      <td>93.0</td>\n",
       "      <td>0          6.203000\\n1          4.722748\\n2   ...</td>\n",
       "      <td>0</td>\n",
       "    </tr>\n",
       "    <tr>\n",
       "      <th>197535</th>\n",
       "      <td>4.716000</td>\n",
       "      <td>-74.031000</td>\n",
       "      <td>2.0</td>\n",
       "      <td>2.700000e+08</td>\n",
       "      <td>Apartamento</td>\n",
       "      <td>6.436051e+08</td>\n",
       "      <td>93.0</td>\n",
       "      <td>0          6.203000\\n1          4.722748\\n2   ...</td>\n",
       "      <td>0</td>\n",
       "    </tr>\n",
       "    <tr>\n",
       "      <th>197540</th>\n",
       "      <td>4.812975</td>\n",
       "      <td>-75.663720</td>\n",
       "      <td>2.0</td>\n",
       "      <td>1.350000e+08</td>\n",
       "      <td>Casa</td>\n",
       "      <td>6.436051e+08</td>\n",
       "      <td>93.0</td>\n",
       "      <td>0          6.203000\\n1          4.722748\\n2   ...</td>\n",
       "      <td>0</td>\n",
       "    </tr>\n",
       "    <tr>\n",
       "      <th>197542</th>\n",
       "      <td>7.064000</td>\n",
       "      <td>-73.106000</td>\n",
       "      <td>2.0</td>\n",
       "      <td>3.450000e+08</td>\n",
       "      <td>Apartamento</td>\n",
       "      <td>6.436051e+08</td>\n",
       "      <td>93.0</td>\n",
       "      <td>0          6.203000\\n1          4.722748\\n2   ...</td>\n",
       "      <td>0</td>\n",
       "    </tr>\n",
       "    <tr>\n",
       "      <th>197545</th>\n",
       "      <td>4.668000</td>\n",
       "      <td>-74.055000</td>\n",
       "      <td>1.0</td>\n",
       "      <td>1.350000e+08</td>\n",
       "      <td>Oficina</td>\n",
       "      <td>6.436051e+08</td>\n",
       "      <td>93.0</td>\n",
       "      <td>0          6.203000\\n1          4.722748\\n2   ...</td>\n",
       "      <td>0</td>\n",
       "    </tr>\n",
       "  </tbody>\n",
       "</table>\n",
       "<p>70992 rows × 9 columns</p>\n",
       "</div>"
      ],
      "text/plain": [
       "             lat        lon  bathrooms         price property_type  \\\n",
       "0       6.203000 -75.572000        4.0  9.000000e+09          Casa   \n",
       "1       4.722748 -74.073115        2.0  6.250000e+08   Apartamento   \n",
       "2       4.709000 -74.030000        2.0  4.200000e+08          Casa   \n",
       "5       5.049009 -75.506802        2.0  1.679523e+08   Apartamento   \n",
       "6       4.732379 -74.082150        8.0  2.700000e+09          Casa   \n",
       "...          ...        ...        ...           ...           ...   \n",
       "197529  6.341000 -75.552000        1.0  1.550000e+08   Apartamento   \n",
       "197535  4.716000 -74.031000        2.0  2.700000e+08   Apartamento   \n",
       "197540  4.812975 -75.663720        2.0  1.350000e+08          Casa   \n",
       "197542  7.064000 -73.106000        2.0  3.450000e+08   Apartamento   \n",
       "197545  4.668000 -74.055000        1.0  1.350000e+08       Oficina   \n",
       "\n",
       "           prec_prom  days_to_sale  \\\n",
       "0       6.436051e+08          93.0   \n",
       "1       6.436051e+08          93.0   \n",
       "2       6.436051e+08          93.0   \n",
       "5       6.436051e+08          93.0   \n",
       "6       6.436051e+08          93.0   \n",
       "...              ...           ...   \n",
       "197529  6.436051e+08          93.0   \n",
       "197535  6.436051e+08          93.0   \n",
       "197540  6.436051e+08          93.0   \n",
       "197542  6.436051e+08          93.0   \n",
       "197545  6.436051e+08          93.0   \n",
       "\n",
       "                                            indica_duplos  target  \n",
       "0       0          6.203000\\n1          4.722748\\n2   ...       1  \n",
       "1       0          6.203000\\n1          4.722748\\n2   ...       0  \n",
       "2       0          6.203000\\n1          4.722748\\n2   ...       0  \n",
       "5       0          6.203000\\n1          4.722748\\n2   ...       0  \n",
       "6       0          6.203000\\n1          4.722748\\n2   ...       1  \n",
       "...                                                   ...     ...  \n",
       "197529  0          6.203000\\n1          4.722748\\n2   ...       0  \n",
       "197535  0          6.203000\\n1          4.722748\\n2   ...       0  \n",
       "197540  0          6.203000\\n1          4.722748\\n2   ...       0  \n",
       "197542  0          6.203000\\n1          4.722748\\n2   ...       0  \n",
       "197545  0          6.203000\\n1          4.722748\\n2   ...       0  \n",
       "\n",
       "[70992 rows x 9 columns]"
      ]
     },
     "execution_count": 541,
     "metadata": {},
     "output_type": "execute_result"
    }
   ],
   "source": [
    "X.dropna(subset=['lat','lon'])"
   ]
  },
  {
   "cell_type": "code",
   "execution_count": 14,
   "metadata": {},
   "outputs": [],
   "source": [
    "import pandas as pd\n",
    "X=pd.read_csv('data3.csv')"
   ]
  },
  {
   "cell_type": "code",
   "execution_count": 15,
   "metadata": {},
   "outputs": [],
   "source": [
    "#Crear y (valor de la columna 'price')\n",
    "\n",
    "y = X['target']"
   ]
  },
  {
   "cell_type": "code",
   "execution_count": 16,
   "metadata": {},
   "outputs": [],
   "source": [
    "#Dividir los datos para Entrentamiento y Test\n",
    "from sklearn.model_selection import train_test_split\n",
    "\n",
    "X_train, X_test, y_train, y_test = train_test_split( X,y,train_size=0.7)"
   ]
  },
  {
   "cell_type": "code",
   "execution_count": 17,
   "metadata": {},
   "outputs": [
    {
     "data": {
      "text/plain": [
       "((49665, 8), (21285, 8), (49665,), (21285,))"
      ]
     },
     "execution_count": 17,
     "metadata": {},
     "output_type": "execute_result"
    }
   ],
   "source": [
    "#Observando las muestras creadas\n",
    "X_train.shape, X_test.shape, y_train.shape, y_test.shape"
   ]
  },
  {
   "cell_type": "markdown",
   "metadata": {},
   "source": [
    "Hemos creado los datos a usar en los Modelos !"
   ]
  },
  {
   "cell_type": "markdown",
   "metadata": {},
   "source": [
    "MODELO DE REGRESIÓN LINEAL"
   ]
  },
  {
   "cell_type": "code",
   "execution_count": 18,
   "metadata": {},
   "outputs": [],
   "source": [
    "#Obtenemos modelo lineal\n",
    "from sklearn.linear_model import LinearRegression\n",
    "\n",
    "linear_regression = LinearRegression()"
   ]
  },
  {
   "cell_type": "code",
   "execution_count": 19,
   "metadata": {},
   "outputs": [],
   "source": [
    "#Antes de aplicar el modelo hay que transformar los datos\n",
    "#Pipeline de la predicción completa\n",
    "model_linear_regression = Pipeline( [ \n",
    "    ('transformer', transformer),\n",
    "    ('linear_regression', linear_regression)\n",
    "])"
   ]
  },
  {
   "cell_type": "code",
   "execution_count": 20,
   "metadata": {},
   "outputs": [
    {
     "data": {
      "text/html": [
       "<style>#sk-container-id-1 {color: black;background-color: white;}#sk-container-id-1 pre{padding: 0;}#sk-container-id-1 div.sk-toggleable {background-color: white;}#sk-container-id-1 label.sk-toggleable__label {cursor: pointer;display: block;width: 100%;margin-bottom: 0;padding: 0.3em;box-sizing: border-box;text-align: center;}#sk-container-id-1 label.sk-toggleable__label-arrow:before {content: \"▸\";float: left;margin-right: 0.25em;color: #696969;}#sk-container-id-1 label.sk-toggleable__label-arrow:hover:before {color: black;}#sk-container-id-1 div.sk-estimator:hover label.sk-toggleable__label-arrow:before {color: black;}#sk-container-id-1 div.sk-toggleable__content {max-height: 0;max-width: 0;overflow: hidden;text-align: left;background-color: #f0f8ff;}#sk-container-id-1 div.sk-toggleable__content pre {margin: 0.2em;color: black;border-radius: 0.25em;background-color: #f0f8ff;}#sk-container-id-1 input.sk-toggleable__control:checked~div.sk-toggleable__content {max-height: 200px;max-width: 100%;overflow: auto;}#sk-container-id-1 input.sk-toggleable__control:checked~label.sk-toggleable__label-arrow:before {content: \"▾\";}#sk-container-id-1 div.sk-estimator input.sk-toggleable__control:checked~label.sk-toggleable__label {background-color: #d4ebff;}#sk-container-id-1 div.sk-label input.sk-toggleable__control:checked~label.sk-toggleable__label {background-color: #d4ebff;}#sk-container-id-1 input.sk-hidden--visually {border: 0;clip: rect(1px 1px 1px 1px);clip: rect(1px, 1px, 1px, 1px);height: 1px;margin: -1px;overflow: hidden;padding: 0;position: absolute;width: 1px;}#sk-container-id-1 div.sk-estimator {font-family: monospace;background-color: #f0f8ff;border: 1px dotted black;border-radius: 0.25em;box-sizing: border-box;margin-bottom: 0.5em;}#sk-container-id-1 div.sk-estimator:hover {background-color: #d4ebff;}#sk-container-id-1 div.sk-parallel-item::after {content: \"\";width: 100%;border-bottom: 1px solid gray;flex-grow: 1;}#sk-container-id-1 div.sk-label:hover label.sk-toggleable__label {background-color: #d4ebff;}#sk-container-id-1 div.sk-serial::before {content: \"\";position: absolute;border-left: 1px solid gray;box-sizing: border-box;top: 0;bottom: 0;left: 50%;z-index: 0;}#sk-container-id-1 div.sk-serial {display: flex;flex-direction: column;align-items: center;background-color: white;padding-right: 0.2em;padding-left: 0.2em;position: relative;}#sk-container-id-1 div.sk-item {position: relative;z-index: 1;}#sk-container-id-1 div.sk-parallel {display: flex;align-items: stretch;justify-content: center;background-color: white;position: relative;}#sk-container-id-1 div.sk-item::before, #sk-container-id-1 div.sk-parallel-item::before {content: \"\";position: absolute;border-left: 1px solid gray;box-sizing: border-box;top: 0;bottom: 0;left: 50%;z-index: -1;}#sk-container-id-1 div.sk-parallel-item {display: flex;flex-direction: column;z-index: 1;position: relative;background-color: white;}#sk-container-id-1 div.sk-parallel-item:first-child::after {align-self: flex-end;width: 50%;}#sk-container-id-1 div.sk-parallel-item:last-child::after {align-self: flex-start;width: 50%;}#sk-container-id-1 div.sk-parallel-item:only-child::after {width: 0;}#sk-container-id-1 div.sk-dashed-wrapped {border: 1px dashed gray;margin: 0 0.4em 0.5em 0.4em;box-sizing: border-box;padding-bottom: 0.4em;background-color: white;}#sk-container-id-1 div.sk-label label {font-family: monospace;font-weight: bold;display: inline-block;line-height: 1.2em;}#sk-container-id-1 div.sk-label-container {text-align: center;}#sk-container-id-1 div.sk-container {/* jupyter's `normalize.less` sets `[hidden] { display: none; }` but bootstrap.min.css set `[hidden] { display: none !important; }` so we also need the `!important` here to be able to override the default hidden behavior on the sphinx rendered scikit-learn.org. See: https://github.com/scikit-learn/scikit-learn/issues/21755 */display: inline-block !important;position: relative;}#sk-container-id-1 div.sk-text-repr-fallback {display: none;}</style><div id=\"sk-container-id-1\" class=\"sk-top-container\"><div class=\"sk-text-repr-fallback\"><pre>Pipeline(steps=[(&#x27;transformer&#x27;,\n",
       "                 ColumnTransformer(transformers=[(&#x27;num&#x27;,\n",
       "                                                  Pipeline(steps=[(&#x27;scaler&#x27;,\n",
       "                                                                   StandardScaler())]),\n",
       "                                                  [&#x27;lat&#x27;, &#x27;lon&#x27;, &#x27;bathrooms&#x27;,\n",
       "                                                   &#x27;price&#x27;, &#x27;days_to_sale&#x27;,\n",
       "                                                   &#x27;target&#x27;, &#x27;prec_prom&#x27;]),\n",
       "                                                 (&#x27;cat&#x27;,\n",
       "                                                  Pipeline(steps=[(&#x27;onehot&#x27;,\n",
       "                                                                   OneHotEncoder())]),\n",
       "                                                  [&#x27;property_type&#x27;])])),\n",
       "                (&#x27;linear_regression&#x27;, LinearRegression())])</pre><b>In a Jupyter environment, please rerun this cell to show the HTML representation or trust the notebook. <br />On GitHub, the HTML representation is unable to render, please try loading this page with nbviewer.org.</b></div><div class=\"sk-container\" hidden><div class=\"sk-item sk-dashed-wrapped\"><div class=\"sk-label-container\"><div class=\"sk-label sk-toggleable\"><input class=\"sk-toggleable__control sk-hidden--visually\" id=\"sk-estimator-id-1\" type=\"checkbox\" ><label for=\"sk-estimator-id-1\" class=\"sk-toggleable__label sk-toggleable__label-arrow\">Pipeline</label><div class=\"sk-toggleable__content\"><pre>Pipeline(steps=[(&#x27;transformer&#x27;,\n",
       "                 ColumnTransformer(transformers=[(&#x27;num&#x27;,\n",
       "                                                  Pipeline(steps=[(&#x27;scaler&#x27;,\n",
       "                                                                   StandardScaler())]),\n",
       "                                                  [&#x27;lat&#x27;, &#x27;lon&#x27;, &#x27;bathrooms&#x27;,\n",
       "                                                   &#x27;price&#x27;, &#x27;days_to_sale&#x27;,\n",
       "                                                   &#x27;target&#x27;, &#x27;prec_prom&#x27;]),\n",
       "                                                 (&#x27;cat&#x27;,\n",
       "                                                  Pipeline(steps=[(&#x27;onehot&#x27;,\n",
       "                                                                   OneHotEncoder())]),\n",
       "                                                  [&#x27;property_type&#x27;])])),\n",
       "                (&#x27;linear_regression&#x27;, LinearRegression())])</pre></div></div></div><div class=\"sk-serial\"><div class=\"sk-item sk-dashed-wrapped\"><div class=\"sk-label-container\"><div class=\"sk-label sk-toggleable\"><input class=\"sk-toggleable__control sk-hidden--visually\" id=\"sk-estimator-id-2\" type=\"checkbox\" ><label for=\"sk-estimator-id-2\" class=\"sk-toggleable__label sk-toggleable__label-arrow\">transformer: ColumnTransformer</label><div class=\"sk-toggleable__content\"><pre>ColumnTransformer(transformers=[(&#x27;num&#x27;,\n",
       "                                 Pipeline(steps=[(&#x27;scaler&#x27;, StandardScaler())]),\n",
       "                                 [&#x27;lat&#x27;, &#x27;lon&#x27;, &#x27;bathrooms&#x27;, &#x27;price&#x27;,\n",
       "                                  &#x27;days_to_sale&#x27;, &#x27;target&#x27;, &#x27;prec_prom&#x27;]),\n",
       "                                (&#x27;cat&#x27;,\n",
       "                                 Pipeline(steps=[(&#x27;onehot&#x27;, OneHotEncoder())]),\n",
       "                                 [&#x27;property_type&#x27;])])</pre></div></div></div><div class=\"sk-parallel\"><div class=\"sk-parallel-item\"><div class=\"sk-item\"><div class=\"sk-label-container\"><div class=\"sk-label sk-toggleable\"><input class=\"sk-toggleable__control sk-hidden--visually\" id=\"sk-estimator-id-3\" type=\"checkbox\" ><label for=\"sk-estimator-id-3\" class=\"sk-toggleable__label sk-toggleable__label-arrow\">num</label><div class=\"sk-toggleable__content\"><pre>[&#x27;lat&#x27;, &#x27;lon&#x27;, &#x27;bathrooms&#x27;, &#x27;price&#x27;, &#x27;days_to_sale&#x27;, &#x27;target&#x27;, &#x27;prec_prom&#x27;]</pre></div></div></div><div class=\"sk-serial\"><div class=\"sk-item\"><div class=\"sk-serial\"><div class=\"sk-item\"><div class=\"sk-estimator sk-toggleable\"><input class=\"sk-toggleable__control sk-hidden--visually\" id=\"sk-estimator-id-4\" type=\"checkbox\" ><label for=\"sk-estimator-id-4\" class=\"sk-toggleable__label sk-toggleable__label-arrow\">StandardScaler</label><div class=\"sk-toggleable__content\"><pre>StandardScaler()</pre></div></div></div></div></div></div></div></div><div class=\"sk-parallel-item\"><div class=\"sk-item\"><div class=\"sk-label-container\"><div class=\"sk-label sk-toggleable\"><input class=\"sk-toggleable__control sk-hidden--visually\" id=\"sk-estimator-id-5\" type=\"checkbox\" ><label for=\"sk-estimator-id-5\" class=\"sk-toggleable__label sk-toggleable__label-arrow\">cat</label><div class=\"sk-toggleable__content\"><pre>[&#x27;property_type&#x27;]</pre></div></div></div><div class=\"sk-serial\"><div class=\"sk-item\"><div class=\"sk-serial\"><div class=\"sk-item\"><div class=\"sk-estimator sk-toggleable\"><input class=\"sk-toggleable__control sk-hidden--visually\" id=\"sk-estimator-id-6\" type=\"checkbox\" ><label for=\"sk-estimator-id-6\" class=\"sk-toggleable__label sk-toggleable__label-arrow\">OneHotEncoder</label><div class=\"sk-toggleable__content\"><pre>OneHotEncoder()</pre></div></div></div></div></div></div></div></div></div></div><div class=\"sk-item\"><div class=\"sk-estimator sk-toggleable\"><input class=\"sk-toggleable__control sk-hidden--visually\" id=\"sk-estimator-id-7\" type=\"checkbox\" ><label for=\"sk-estimator-id-7\" class=\"sk-toggleable__label sk-toggleable__label-arrow\">LinearRegression</label><div class=\"sk-toggleable__content\"><pre>LinearRegression()</pre></div></div></div></div></div></div></div>"
      ],
      "text/plain": [
       "Pipeline(steps=[('transformer',\n",
       "                 ColumnTransformer(transformers=[('num',\n",
       "                                                  Pipeline(steps=[('scaler',\n",
       "                                                                   StandardScaler())]),\n",
       "                                                  ['lat', 'lon', 'bathrooms',\n",
       "                                                   'price', 'days_to_sale',\n",
       "                                                   'target', 'prec_prom']),\n",
       "                                                 ('cat',\n",
       "                                                  Pipeline(steps=[('onehot',\n",
       "                                                                   OneHotEncoder())]),\n",
       "                                                  ['property_type'])])),\n",
       "                ('linear_regression', LinearRegression())])"
      ]
     },
     "execution_count": 20,
     "metadata": {},
     "output_type": "execute_result"
    }
   ],
   "source": [
    "#Conseguiremos el ajuste\n",
    "model_linear_regression.fit(X_train, y_train)"
   ]
  },
  {
   "cell_type": "code",
   "execution_count": 21,
   "metadata": {},
   "outputs": [],
   "source": [
    "muestra=X_test.iloc[:4]"
   ]
  },
  {
   "cell_type": "code",
   "execution_count": 22,
   "metadata": {},
   "outputs": [
    {
     "data": {
      "text/html": [
       "<div>\n",
       "<style scoped>\n",
       "    .dataframe tbody tr th:only-of-type {\n",
       "        vertical-align: middle;\n",
       "    }\n",
       "\n",
       "    .dataframe tbody tr th {\n",
       "        vertical-align: top;\n",
       "    }\n",
       "\n",
       "    .dataframe thead th {\n",
       "        text-align: right;\n",
       "    }\n",
       "</style>\n",
       "<table border=\"1\" class=\"dataframe\">\n",
       "  <thead>\n",
       "    <tr style=\"text-align: right;\">\n",
       "      <th></th>\n",
       "      <th>lat</th>\n",
       "      <th>lon</th>\n",
       "      <th>bathrooms</th>\n",
       "      <th>price</th>\n",
       "      <th>property_type</th>\n",
       "      <th>prec_prom</th>\n",
       "      <th>days_to_sale</th>\n",
       "      <th>target</th>\n",
       "    </tr>\n",
       "  </thead>\n",
       "  <tbody>\n",
       "    <tr>\n",
       "      <th>47875</th>\n",
       "      <td>11.006000</td>\n",
       "      <td>-74.806000</td>\n",
       "      <td>2</td>\n",
       "      <td>4.800000e+08</td>\n",
       "      <td>7</td>\n",
       "      <td>643605091</td>\n",
       "      <td>93</td>\n",
       "      <td>0</td>\n",
       "    </tr>\n",
       "    <tr>\n",
       "      <th>42767</th>\n",
       "      <td>4.643936</td>\n",
       "      <td>-74.060756</td>\n",
       "      <td>2</td>\n",
       "      <td>4.000000e+08</td>\n",
       "      <td>7</td>\n",
       "      <td>643605091</td>\n",
       "      <td>93</td>\n",
       "      <td>0</td>\n",
       "    </tr>\n",
       "    <tr>\n",
       "      <th>69826</th>\n",
       "      <td>4.716000</td>\n",
       "      <td>-73.967000</td>\n",
       "      <td>6</td>\n",
       "      <td>3.000000e+09</td>\n",
       "      <td>6</td>\n",
       "      <td>643605091</td>\n",
       "      <td>93</td>\n",
       "      <td>1</td>\n",
       "    </tr>\n",
       "    <tr>\n",
       "      <th>382</th>\n",
       "      <td>7.876192</td>\n",
       "      <td>-72.513364</td>\n",
       "      <td>2</td>\n",
       "      <td>5.500000e+07</td>\n",
       "      <td>6</td>\n",
       "      <td>643605091</td>\n",
       "      <td>93</td>\n",
       "      <td>0</td>\n",
       "    </tr>\n",
       "  </tbody>\n",
       "</table>\n",
       "</div>"
      ],
      "text/plain": [
       "             lat        lon  bathrooms         price  property_type  \\\n",
       "47875  11.006000 -74.806000          2  4.800000e+08              7   \n",
       "42767   4.643936 -74.060756          2  4.000000e+08              7   \n",
       "69826   4.716000 -73.967000          6  3.000000e+09              6   \n",
       "382     7.876192 -72.513364          2  5.500000e+07              6   \n",
       "\n",
       "       prec_prom  days_to_sale  target  \n",
       "47875  643605091            93       0  \n",
       "42767  643605091            93       0  \n",
       "69826  643605091            93       1  \n",
       "382    643605091            93       0  "
      ]
     },
     "execution_count": 22,
     "metadata": {},
     "output_type": "execute_result"
    }
   ],
   "source": [
    "X_test.iloc[:4]"
   ]
  },
  {
   "cell_type": "code",
   "execution_count": 23,
   "metadata": {},
   "outputs": [
    {
     "data": {
      "text/plain": [
       "array([-4.44089210e-16, -9.43689571e-16,  1.00000000e+00, -1.47104551e-15])"
      ]
     },
     "execution_count": 23,
     "metadata": {},
     "output_type": "execute_result"
    }
   ],
   "source": [
    "model_linear_regression.predict(muestra)"
   ]
  },
  {
   "cell_type": "code",
   "execution_count": 26,
   "metadata": {},
   "outputs": [],
   "source": [
    "#CARGA DE DATA - TEST\n",
    "test_file = pd.read_csv('target2.csv')"
   ]
  },
  {
   "cell_type": "code",
   "execution_count": 27,
   "metadata": {},
   "outputs": [
    {
     "data": {
      "text/plain": [
       "pred    \n",
       "0.999410    834\n",
       "0.999410    423\n",
       "0.999417    407\n",
       "0.999417    381\n",
       "0.999410    366\n",
       "           ... \n",
       "0.000178      1\n",
       "0.000178      1\n",
       "0.000178      1\n",
       "0.000178      1\n",
       "1.002143      1\n",
       "Length: 10735, dtype: int64"
      ]
     },
     "execution_count": 27,
     "metadata": {},
     "output_type": "execute_result"
    }
   ],
   "source": [
    "predicciones= model_linear_regression.predict(test_file)\n",
    "#print(predicciones)\n",
    "predicciones = pd.DataFrame(predicciones, columns=['pred'])\n",
    "#print(predicciones)\n",
    "predicciones.to_csv(\"duilius.csv\",sep=',', index=False)\n",
    "predicciones.value_counts()"
   ]
  },
  {
   "cell_type": "markdown",
   "metadata": {},
   "source": [
    "MODELO DE CEDISION-TREE"
   ]
  },
  {
   "cell_type": "markdown",
   "metadata": {},
   "source": [
    "#Aplicamos Modelo Arbol de Decisión con DecisionTreeRegressor\n",
    "from sklearn.tree import DecisionTreeRegressor\n",
    "\n",
    "#1: Nombrar una variable para el modelo\n",
    "tree_reg\n",
    "#2: Definir el Pipeline: Transformación + Modelo\n",
    "#3: Ajustar el Modeo"
   ]
  },
  {
   "cell_type": "markdown",
   "metadata": {},
   "source": [
    "EVALUACION\n",
    "4: Calcular el Score con Validación Cruzada CV=10\n",
    "5: Realizar el cambio de signo y obtener raíz\n",
    "6: Mostrar el resultado usando la función display_scores"
   ]
  },
  {
   "cell_type": "code",
   "execution_count": null,
   "metadata": {},
   "outputs": [],
   "source": []
  },
  {
   "cell_type": "code",
   "execution_count": 624,
   "metadata": {},
   "outputs": [
    {
     "ename": "ValueError",
     "evalue": "Input X contains NaN.\nDecisionTreeRegressor does not accept missing values encoded as NaN natively. For supervised learning, you might want to consider sklearn.ensemble.HistGradientBoostingClassifier and Regressor which accept missing values encoded as NaNs natively. Alternatively, it is possible to preprocess the data, for instance by using an imputer transformer in a pipeline or drop samples with missing values. See https://scikit-learn.org/stable/modules/impute.html You can find a list of all estimators that handle NaN values at the following page: https://scikit-learn.org/stable/modules/impute.html#estimators-that-handle-nan-values",
     "output_type": "error",
     "traceback": [
      "\u001b[1;31m---------------------------------------------------------------------------\u001b[0m",
      "\u001b[1;31mValueError\u001b[0m                                Traceback (most recent call last)",
      "\u001b[1;32mc:\\pyscript\\PI-02-DS04\\etl-pi-02.ipynb Celda 91\u001b[0m in \u001b[0;36m<cell line: 11>\u001b[1;34m()\u001b[0m\n\u001b[0;32m      <a href='vscode-notebook-cell:/c%3A/pyscript/PI-02-DS04/etl-pi-02.ipynb#Y235sZmlsZQ%3D%3D?line=2'>3</a>\u001b[0m tree_reg\u001b[39m=\u001b[39m  DecisionTreeRegressor( random_state \u001b[39m=\u001b[39m \u001b[39m42\u001b[39m)\n\u001b[0;32m      <a href='vscode-notebook-cell:/c%3A/pyscript/PI-02-DS04/etl-pi-02.ipynb#Y235sZmlsZQ%3D%3D?line=4'>5</a>\u001b[0m model_tree_reg \u001b[39m=\u001b[39m Pipeline(steps\u001b[39m=\u001b[39m[\n\u001b[0;32m      <a href='vscode-notebook-cell:/c%3A/pyscript/PI-02-DS04/etl-pi-02.ipynb#Y235sZmlsZQ%3D%3D?line=5'>6</a>\u001b[0m     (\u001b[39m'\u001b[39m\u001b[39mtransformer\u001b[39m\u001b[39m'\u001b[39m, transformer),\n\u001b[0;32m      <a href='vscode-notebook-cell:/c%3A/pyscript/PI-02-DS04/etl-pi-02.ipynb#Y235sZmlsZQ%3D%3D?line=6'>7</a>\u001b[0m     (\u001b[39m'\u001b[39m\u001b[39mtree_reg\u001b[39m\u001b[39m'\u001b[39m, tree_reg)\n\u001b[0;32m      <a href='vscode-notebook-cell:/c%3A/pyscript/PI-02-DS04/etl-pi-02.ipynb#Y235sZmlsZQ%3D%3D?line=7'>8</a>\u001b[0m \n\u001b[0;32m      <a href='vscode-notebook-cell:/c%3A/pyscript/PI-02-DS04/etl-pi-02.ipynb#Y235sZmlsZQ%3D%3D?line=8'>9</a>\u001b[0m ])\n\u001b[1;32m---> <a href='vscode-notebook-cell:/c%3A/pyscript/PI-02-DS04/etl-pi-02.ipynb#Y235sZmlsZQ%3D%3D?line=10'>11</a>\u001b[0m model_tree_reg\u001b[39m.\u001b[39;49mfit(X_train, y_train)\n",
      "File \u001b[1;32m~\\AppData\\Local\\Packages\\PythonSoftwareFoundation.Python.3.9_qbz5n2kfra8p0\\LocalCache\\local-packages\\Python39\\site-packages\\sklearn\\pipeline.py:382\u001b[0m, in \u001b[0;36mPipeline.fit\u001b[1;34m(self, X, y, **fit_params)\u001b[0m\n\u001b[0;32m    380\u001b[0m     \u001b[39mif\u001b[39;00m \u001b[39mself\u001b[39m\u001b[39m.\u001b[39m_final_estimator \u001b[39m!=\u001b[39m \u001b[39m\"\u001b[39m\u001b[39mpassthrough\u001b[39m\u001b[39m\"\u001b[39m:\n\u001b[0;32m    381\u001b[0m         fit_params_last_step \u001b[39m=\u001b[39m fit_params_steps[\u001b[39mself\u001b[39m\u001b[39m.\u001b[39msteps[\u001b[39m-\u001b[39m\u001b[39m1\u001b[39m][\u001b[39m0\u001b[39m]]\n\u001b[1;32m--> 382\u001b[0m         \u001b[39mself\u001b[39m\u001b[39m.\u001b[39m_final_estimator\u001b[39m.\u001b[39mfit(Xt, y, \u001b[39m*\u001b[39m\u001b[39m*\u001b[39mfit_params_last_step)\n\u001b[0;32m    384\u001b[0m \u001b[39mreturn\u001b[39;00m \u001b[39mself\u001b[39m\n",
      "File \u001b[1;32m~\\AppData\\Local\\Packages\\PythonSoftwareFoundation.Python.3.9_qbz5n2kfra8p0\\LocalCache\\local-packages\\Python39\\site-packages\\sklearn\\tree\\_classes.py:1342\u001b[0m, in \u001b[0;36mDecisionTreeRegressor.fit\u001b[1;34m(self, X, y, sample_weight, check_input)\u001b[0m\n\u001b[0;32m   1313\u001b[0m \u001b[39mdef\u001b[39;00m \u001b[39mfit\u001b[39m(\u001b[39mself\u001b[39m, X, y, sample_weight\u001b[39m=\u001b[39m\u001b[39mNone\u001b[39;00m, check_input\u001b[39m=\u001b[39m\u001b[39mTrue\u001b[39;00m):\n\u001b[0;32m   1314\u001b[0m     \u001b[39m\"\"\"Build a decision tree regressor from the training set (X, y).\u001b[39;00m\n\u001b[0;32m   1315\u001b[0m \n\u001b[0;32m   1316\u001b[0m \u001b[39m    Parameters\u001b[39;00m\n\u001b[1;32m   (...)\u001b[0m\n\u001b[0;32m   1339\u001b[0m \u001b[39m        Fitted estimator.\u001b[39;00m\n\u001b[0;32m   1340\u001b[0m \u001b[39m    \"\"\"\u001b[39;00m\n\u001b[1;32m-> 1342\u001b[0m     \u001b[39msuper\u001b[39;49m()\u001b[39m.\u001b[39;49mfit(\n\u001b[0;32m   1343\u001b[0m         X,\n\u001b[0;32m   1344\u001b[0m         y,\n\u001b[0;32m   1345\u001b[0m         sample_weight\u001b[39m=\u001b[39;49msample_weight,\n\u001b[0;32m   1346\u001b[0m         check_input\u001b[39m=\u001b[39;49mcheck_input,\n\u001b[0;32m   1347\u001b[0m     )\n\u001b[0;32m   1348\u001b[0m     \u001b[39mreturn\u001b[39;00m \u001b[39mself\u001b[39m\n",
      "File \u001b[1;32m~\\AppData\\Local\\Packages\\PythonSoftwareFoundation.Python.3.9_qbz5n2kfra8p0\\LocalCache\\local-packages\\Python39\\site-packages\\sklearn\\tree\\_classes.py:172\u001b[0m, in \u001b[0;36mBaseDecisionTree.fit\u001b[1;34m(self, X, y, sample_weight, check_input)\u001b[0m\n\u001b[0;32m    170\u001b[0m check_X_params \u001b[39m=\u001b[39m \u001b[39mdict\u001b[39m(dtype\u001b[39m=\u001b[39mDTYPE, accept_sparse\u001b[39m=\u001b[39m\u001b[39m\"\u001b[39m\u001b[39mcsc\u001b[39m\u001b[39m\"\u001b[39m)\n\u001b[0;32m    171\u001b[0m check_y_params \u001b[39m=\u001b[39m \u001b[39mdict\u001b[39m(ensure_2d\u001b[39m=\u001b[39m\u001b[39mFalse\u001b[39;00m, dtype\u001b[39m=\u001b[39m\u001b[39mNone\u001b[39;00m)\n\u001b[1;32m--> 172\u001b[0m X, y \u001b[39m=\u001b[39m \u001b[39mself\u001b[39;49m\u001b[39m.\u001b[39;49m_validate_data(\n\u001b[0;32m    173\u001b[0m     X, y, validate_separately\u001b[39m=\u001b[39;49m(check_X_params, check_y_params)\n\u001b[0;32m    174\u001b[0m )\n\u001b[0;32m    175\u001b[0m \u001b[39mif\u001b[39;00m issparse(X):\n\u001b[0;32m    176\u001b[0m     X\u001b[39m.\u001b[39msort_indices()\n",
      "File \u001b[1;32m~\\AppData\\Local\\Packages\\PythonSoftwareFoundation.Python.3.9_qbz5n2kfra8p0\\LocalCache\\local-packages\\Python39\\site-packages\\sklearn\\base.py:591\u001b[0m, in \u001b[0;36mBaseEstimator._validate_data\u001b[1;34m(self, X, y, reset, validate_separately, **check_params)\u001b[0m\n\u001b[0;32m    589\u001b[0m \u001b[39mif\u001b[39;00m \u001b[39m\"\u001b[39m\u001b[39mestimator\u001b[39m\u001b[39m\"\u001b[39m \u001b[39mnot\u001b[39;00m \u001b[39min\u001b[39;00m check_X_params:\n\u001b[0;32m    590\u001b[0m     check_X_params \u001b[39m=\u001b[39m {\u001b[39m*\u001b[39m\u001b[39m*\u001b[39mdefault_check_params, \u001b[39m*\u001b[39m\u001b[39m*\u001b[39mcheck_X_params}\n\u001b[1;32m--> 591\u001b[0m X \u001b[39m=\u001b[39m check_array(X, input_name\u001b[39m=\u001b[39m\u001b[39m\"\u001b[39m\u001b[39mX\u001b[39m\u001b[39m\"\u001b[39m, \u001b[39m*\u001b[39m\u001b[39m*\u001b[39mcheck_X_params)\n\u001b[0;32m    592\u001b[0m \u001b[39mif\u001b[39;00m \u001b[39m\"\u001b[39m\u001b[39mestimator\u001b[39m\u001b[39m\"\u001b[39m \u001b[39mnot\u001b[39;00m \u001b[39min\u001b[39;00m check_y_params:\n\u001b[0;32m    593\u001b[0m     check_y_params \u001b[39m=\u001b[39m {\u001b[39m*\u001b[39m\u001b[39m*\u001b[39mdefault_check_params, \u001b[39m*\u001b[39m\u001b[39m*\u001b[39mcheck_y_params}\n",
      "File \u001b[1;32m~\\AppData\\Local\\Packages\\PythonSoftwareFoundation.Python.3.9_qbz5n2kfra8p0\\LocalCache\\local-packages\\Python39\\site-packages\\sklearn\\utils\\validation.py:899\u001b[0m, in \u001b[0;36mcheck_array\u001b[1;34m(array, accept_sparse, accept_large_sparse, dtype, order, copy, force_all_finite, ensure_2d, allow_nd, ensure_min_samples, ensure_min_features, estimator, input_name)\u001b[0m\n\u001b[0;32m    893\u001b[0m         \u001b[39mraise\u001b[39;00m \u001b[39mValueError\u001b[39;00m(\n\u001b[0;32m    894\u001b[0m             \u001b[39m\"\u001b[39m\u001b[39mFound array with dim \u001b[39m\u001b[39m%d\u001b[39;00m\u001b[39m. \u001b[39m\u001b[39m%s\u001b[39;00m\u001b[39m expected <= 2.\u001b[39m\u001b[39m\"\u001b[39m\n\u001b[0;32m    895\u001b[0m             \u001b[39m%\u001b[39m (array\u001b[39m.\u001b[39mndim, estimator_name)\n\u001b[0;32m    896\u001b[0m         )\n\u001b[0;32m    898\u001b[0m     \u001b[39mif\u001b[39;00m force_all_finite:\n\u001b[1;32m--> 899\u001b[0m         _assert_all_finite(\n\u001b[0;32m    900\u001b[0m             array,\n\u001b[0;32m    901\u001b[0m             input_name\u001b[39m=\u001b[39;49minput_name,\n\u001b[0;32m    902\u001b[0m             estimator_name\u001b[39m=\u001b[39;49mestimator_name,\n\u001b[0;32m    903\u001b[0m             allow_nan\u001b[39m=\u001b[39;49mforce_all_finite \u001b[39m==\u001b[39;49m \u001b[39m\"\u001b[39;49m\u001b[39mallow-nan\u001b[39;49m\u001b[39m\"\u001b[39;49m,\n\u001b[0;32m    904\u001b[0m         )\n\u001b[0;32m    906\u001b[0m \u001b[39mif\u001b[39;00m ensure_min_samples \u001b[39m>\u001b[39m \u001b[39m0\u001b[39m:\n\u001b[0;32m    907\u001b[0m     n_samples \u001b[39m=\u001b[39m _num_samples(array)\n",
      "File \u001b[1;32m~\\AppData\\Local\\Packages\\PythonSoftwareFoundation.Python.3.9_qbz5n2kfra8p0\\LocalCache\\local-packages\\Python39\\site-packages\\sklearn\\utils\\validation.py:146\u001b[0m, in \u001b[0;36m_assert_all_finite\u001b[1;34m(X, allow_nan, msg_dtype, estimator_name, input_name)\u001b[0m\n\u001b[0;32m    124\u001b[0m         \u001b[39mif\u001b[39;00m (\n\u001b[0;32m    125\u001b[0m             \u001b[39mnot\u001b[39;00m allow_nan\n\u001b[0;32m    126\u001b[0m             \u001b[39mand\u001b[39;00m estimator_name\n\u001b[1;32m   (...)\u001b[0m\n\u001b[0;32m    130\u001b[0m             \u001b[39m# Improve the error message on how to handle missing values in\u001b[39;00m\n\u001b[0;32m    131\u001b[0m             \u001b[39m# scikit-learn.\u001b[39;00m\n\u001b[0;32m    132\u001b[0m             msg_err \u001b[39m+\u001b[39m\u001b[39m=\u001b[39m (\n\u001b[0;32m    133\u001b[0m                 \u001b[39mf\u001b[39m\u001b[39m\"\u001b[39m\u001b[39m\\n\u001b[39;00m\u001b[39m{\u001b[39;00mestimator_name\u001b[39m}\u001b[39;00m\u001b[39m does not accept missing values\u001b[39m\u001b[39m\"\u001b[39m\n\u001b[0;32m    134\u001b[0m                 \u001b[39m\"\u001b[39m\u001b[39m encoded as NaN natively. For supervised learning, you might want\u001b[39m\u001b[39m\"\u001b[39m\n\u001b[1;32m   (...)\u001b[0m\n\u001b[0;32m    144\u001b[0m                 \u001b[39m\"\u001b[39m\u001b[39m#estimators-that-handle-nan-values\u001b[39m\u001b[39m\"\u001b[39m\n\u001b[0;32m    145\u001b[0m             )\n\u001b[1;32m--> 146\u001b[0m         \u001b[39mraise\u001b[39;00m \u001b[39mValueError\u001b[39;00m(msg_err)\n\u001b[0;32m    148\u001b[0m \u001b[39m# for object dtype data, we only check for NaNs (GH-13254)\u001b[39;00m\n\u001b[0;32m    149\u001b[0m \u001b[39melif\u001b[39;00m X\u001b[39m.\u001b[39mdtype \u001b[39m==\u001b[39m np\u001b[39m.\u001b[39mdtype(\u001b[39m\"\u001b[39m\u001b[39mobject\u001b[39m\u001b[39m\"\u001b[39m) \u001b[39mand\u001b[39;00m \u001b[39mnot\u001b[39;00m allow_nan:\n",
      "\u001b[1;31mValueError\u001b[0m: Input X contains NaN.\nDecisionTreeRegressor does not accept missing values encoded as NaN natively. For supervised learning, you might want to consider sklearn.ensemble.HistGradientBoostingClassifier and Regressor which accept missing values encoded as NaNs natively. Alternatively, it is possible to preprocess the data, for instance by using an imputer transformer in a pipeline or drop samples with missing values. See https://scikit-learn.org/stable/modules/impute.html You can find a list of all estimators that handle NaN values at the following page: https://scikit-learn.org/stable/modules/impute.html#estimators-that-handle-nan-values"
     ]
    }
   ],
   "source": [
    "from sklearn.tree import DecisionTreeRegressor\n",
    "\n",
    "tree_reg=  DecisionTreeRegressor( random_state = 42)\n",
    "\n",
    "model_tree_reg = Pipeline(steps=[\n",
    "    ('transformer', transformer),\n",
    "    ('tree_reg', tree_reg)\n",
    "\n",
    "])\n",
    "\n",
    "model_tree_reg.fit(X_train, y_train)"
   ]
  },
  {
   "cell_type": "code",
   "execution_count": null,
   "metadata": {},
   "outputs": [],
   "source": [
    "#X_train.dropna('price')\n",
    "#df.describe(include='object')"
   ]
  },
  {
   "cell_type": "code",
   "execution_count": 33,
   "metadata": {},
   "outputs": [
    {
     "data": {
      "image/png": "[encoded data removed]",
      "text/plain": [
       "<Figure size 288x288 with 1 Axes>"
      ]
     },
     "metadata": {
      "needs_background": "light"
     },
     "output_type": "display_data"
    }
   ],
   "source": [
    "from sklearn.linear_model import LogisticRegression\n",
    "from sklearn.metrics import confusion_matrix\n",
    "from sklearn.metrics import accuracy_score\n",
    "from sklearn.metrics import recall_score\n",
    "import matplotlib.pyplot as plt\n",
    "import math\n",
    "\n",
    "def matriz_de_confusion(clases_reales, clases_predichas, titulo):\n",
    "    \"\"\"Ver Matriz-Confusión\"\"\"\n",
    "\n",
    "    matriz = confusion_matrix(clases_reales, clases_predichas)\n",
    "    recall = recall_score(clases_reales, clases_predichas)\n",
    "\n",
    "    #Matplotlib\n",
    "    plt.figure(figsize=(4, 4))\n",
    "    matriz = pd.DataFrame(matriz,\n",
    "                    columns=[\"0: Barato\", \"1: Caro\"])\n",
    "    plt.matshow(matriz, cmap=\"summer\", vmin=0, vmax=40, fignum=1)\n",
    "    plt.xticks(range(len(matriz.columns)), matriz.columns, rotation=45)\n",
    "    plt.yticks(range(len(matriz.columns)), matriz.columns)\n",
    "    etiquetas = ((\"Verdaderos\\nNegativos\", \"Falsos\\nPositivos\"),\n",
    "                (\"Falsos\\nNegativos\", \"Verdaderos\\nPositivos\"))\n",
    "    \n",
    "    plt.text(1.60, -0.30, titulo, fontsize=25, c = \"red\")\n",
    "    plt.text(2.1, 0.10, \"Recall: %0.2f\" % recall, fontsize=20)\n",
    "\n",
    "    for i in range(len(matriz.columns)):\n",
    "        for j in range(len(matriz.columns)):\n",
    "            plt.text(i, j + 0.14, str(matriz.iloc[i,j]),\n",
    "                    fontsize=30, ha = \"center\", va =\"center\")\n",
    "            plt.text(i, j - 0.25, etiquetas[i][j],\n",
    "                    fontsize=11.5, ha = \"center\", va= \"center\")\n",
    "    plt.show()\n",
    "\n",
    "clase = X[\"target\"]\n",
    "datos = X.drop(columns=[\"target\"])\n",
    "modelo = LogisticRegression().fit(datos, clase)\n",
    "matriz_de_confusion(clase, modelo.predict(datos), \"Matr-Conf. DESBALANCEADA\")"
   ]
  }
 ],
 "metadata": {
  "kernelspec": {
   "display_name": "Python 3.9.13 64-bit (microsoft store)",
   "language": "python",
   "name": "python3"
  },
  "language_info": {
   "codemirror_mode": {
    "name": "ipython",
    "version": 3
   },
   "file_extension": ".py",
   "mimetype": "text/x-python",
   "name": "python",
   "nbconvert_exporter": "python",
   "pygments_lexer": "ipython3",
   "version": "3.9.13"
  },
  "orig_nbformat": 4,
  "vscode": {
   "interpreter": {
    "hash": "23f1fa7d854e0f97c20f53e27ae06ff8f701f3907b00f0d38be2932be592a48c"
   }
  }
 },
 "nbformat": 4,
 "nbformat_minor": 2
}
